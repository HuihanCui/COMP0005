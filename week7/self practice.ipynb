{
 "cells": [
  {
   "cell_type": "markdown",
   "id": "d51dd1ef",
   "metadata": {},
   "source": [
    "1."
   ]
  },
  {
   "cell_type": "code",
   "execution_count": 212,
   "id": "73441c94",
   "metadata": {},
   "outputs": [],
   "source": [
    "#注意：目前这个只能实现 undirected，貌似无法实现directed，等待答案\n",
    "class Digraph:\n",
    "    def __init__(self, V):\n",
    "        self.V = V\n",
    "        self.adj = []\n",
    "        self.id = list(range(0, self.V))\n",
    "        for _ in range (0,V):\n",
    "            self.adj.append([])\n",
    "            \n",
    "    def addEdge(self, v, w):\n",
    "        self.adj[v].append(w)\n",
    "        \n",
    "    def adjacent (self, v):\n",
    "        return self.adj[v]\n",
    "    \n",
    "    def root(self, i):\n",
    "        while i!=self.id[i]:\n",
    "            i=self.id[i]\n",
    "        return i\n",
    "    \n",
    "     #true代表没有cycle，false代表有cycle\n",
    "    def unionFindCycle2(self):\n",
    "        for i in range(self.V):\n",
    "            for j in self.adj[i]:\n",
    "                if not self.union(i, j):\n",
    "                    return False\n",
    "        return True\n",
    "    \n",
    "    def union(self, u,v):\n",
    "        r_u = self.root(u)\n",
    "        r_v = self.root(v)\n",
    "        if r_u == r_v: \n",
    "            return False\n",
    "        self.id[r_v] = r_u\n",
    "        return True"
   ]
  },
  {
   "cell_type": "code",
   "execution_count": 221,
   "id": "5230f7e6",
   "metadata": {},
   "outputs": [
    {
     "data": {
      "text/plain": [
       "False"
      ]
     },
     "execution_count": 221,
     "metadata": {},
     "output_type": "execute_result"
    }
   ],
   "source": [
    "dg = Digraph(5)\n",
    "dg.addEdge(2,3)\n",
    "dg.addEdge(2,4)\n",
    "dg.addEdge(4,3)\n",
    "dg.unionFindCycle2()"
   ]
  },
  {
   "cell_type": "code",
   "execution_count": 219,
   "id": "c3be0a4b",
   "metadata": {},
   "outputs": [
    {
     "data": {
      "text/plain": [
       "True"
      ]
     },
     "execution_count": 219,
     "metadata": {},
     "output_type": "execute_result"
    }
   ],
   "source": [
    "dg = Digraph(13)\n",
    "dg.addEdge(0,2)\n",
    "dg.addEdge(0,6)\n",
    "dg.addEdge(1,0)\n",
    "dg.addEdge(5,0)\n",
    "#dg.addEdge(2,3)\n",
    "#dg.addEdge(3,2)\n",
    "#dg.addEdge(5,3)\n",
    "dg.addEdge(3,4)\n",
    "#dg.addEdge(4,5)\n",
    "dg.addEdge(2,4)\n",
    "#dg.addEdge(4,6)\n",
    "dg.addEdge(4,11)\n",
    "dg.addEdge(11,9)\n",
    "#dg.addEdge(12,11)\n",
    "dg.addEdge(9,12)\n",
    "dg.addEdge(10,9)\n",
    "#dg.addEdge(12,10)\n",
    "#dg.addEdge(9,6)\n",
    "#dg.addEdge(9,7)\n",
    "dg.addEdge(6,7)\n",
    "#dg.addEdge(6,8)\n",
    "dg.addEdge(8,6)\n",
    "dg.unionFindCycle2()"
   ]
  },
  {
   "cell_type": "markdown",
   "id": "92ba423d",
   "metadata": {},
   "source": [
    "陈老师代码实现，据说可以digraph"
   ]
  },
  {
   "cell_type": "code",
   "execution_count": 315,
   "id": "2324b58a",
   "metadata": {},
   "outputs": [
    {
     "data": {
      "text/plain": [
       "True"
      ]
     },
     "execution_count": 315,
     "metadata": {},
     "output_type": "execute_result"
    }
   ],
   "source": [
    "class DigraphCycle:\n",
    "    def __init__(self, n):\n",
    "        self.n = n\n",
    "        self.adj = []\n",
    "        self.ids = list(range(self.n))\n",
    "        self.parents = list(range(self.n))\n",
    "        for _ in range (n):\n",
    "            self.adj.append([])\n",
    "\n",
    "    def addEdge(self, index, node):\n",
    "        self.adj[index].append(node)\n",
    "    \n",
    "    def rootCycle(self, node):\n",
    "        ilist = []\n",
    "        while node != self.parents[node] and self.parents[node] not in ilist:\n",
    "            ilist.append(self.parents[node])\n",
    "            node = self.parents[node]\n",
    "        return ilist[:-1]\n",
    "    \n",
    "    def hasCycle(self):\n",
    "        for point in range(self.n):\n",
    "            for j in self.adj[point]:\n",
    "                un = self.union(point, j)\n",
    "                if not un:\n",
    "                    return True\n",
    "                \n",
    "        for x in range(self.n):\n",
    "            for y in self.adj[x]:\n",
    "                rp = self.rootCycle(x)\n",
    "                rj = self.rootCycle(y)\n",
    "#                 print(x, y, rp, rj)\n",
    "                if y in rp and x in rj:\n",
    "                    return True\n",
    "        return False\n",
    "    \n",
    "    def union(self, A, B):\n",
    "        self.parents[B] = A\n",
    "        Aid = self.ids[A]\n",
    "        Bid = self.ids[B]\n",
    "        for i in range(self.n):\n",
    "            if self.ids[i] == Bid:\n",
    "                self.ids[i] = Aid\n",
    "\n",
    "        if self.ids[A] == B:\n",
    "            return False\n",
    "        return True\n",
    "    \n",
    "dg = DigraphCycle(13)\n",
    "dg.addEdge(0,2)\n",
    "dg.addEdge(0,6)\n",
    "dg.addEdge(1,0)\n",
    "dg.addEdge(5,0)\n",
    "dg.addEdge(3,4)\n",
    "dg.addEdge(2,4)\n",
    "dg.addEdge(2,3)\n",
    "dg.addEdge(4,6)\n",
    "dg.addEdge(4,11)\n",
    "dg.addEdge(11,9)\n",
    "dg.addEdge(9,12)\n",
    "dg.addEdge(10,9)\n",
    "dg.addEdge(6,7)\n",
    "dg.addEdge(6,8)\n",
    "\n",
    "dg.addEdge(3,2)\n",
    "dg.addEdge(4,5)\n",
    "dg.addEdge(12,11)\n",
    "dg.addEdge(12,10)\n",
    "\n",
    "dg.hasCycle()"
   ]
  },
  {
   "cell_type": "markdown",
   "id": "0d3af639",
   "metadata": {},
   "source": [
    "2."
   ]
  },
  {
   "cell_type": "code",
   "execution_count": 260,
   "id": "9613593e",
   "metadata": {},
   "outputs": [],
   "source": [
    "class BreadthFirstPaths:\n",
    "    def __init__(self, G):\n",
    "        # -1代表没去过，0代表第一种颜色，1代表第二种颜色\n",
    "        self.color = [-1] * G.V\n",
    "        self.edgeTo = [-1] * G.V\n",
    "        \n",
    "    #true代表是bipartite\n",
    "    def isBipartite(self, G, s):\n",
    "        q = []\n",
    "        q.append(s)\n",
    "        self.color[s] = 0\n",
    "        while len(q) > 0:\n",
    "            v = q.pop(0)\n",
    "            for w in G.adjacent(v):\n",
    "                if (self.color[w] == -1):\n",
    "                    q.append(w)\n",
    "                    if self.color[v] == 0:\n",
    "                        self.color[w] = 1\n",
    "                    else:\n",
    "                        self.color[w] = 0\n",
    "                    self.edgeTo[w]=v\n",
    "                else:\n",
    "                    if self.color[w] == self.color[v]:\n",
    "                        return False\n",
    "        return True\n",
    "    \n",
    "class Graph:\n",
    "    def __init__(self, V):\n",
    "        self.V = V\n",
    "        self.adj = []\n",
    "        for _ in range (0,V):\n",
    "            self.adj.append([])\n",
    "            \n",
    "    def addEdge(self, v, w):\n",
    "        self.adj[v].append(w)\n",
    "        self.adj[w].append(v)\n",
    "        \n",
    "    def adjacent (self, v):\n",
    "        return self.adj[v]"
   ]
  },
  {
   "cell_type": "code",
   "execution_count": 267,
   "id": "295bff38",
   "metadata": {},
   "outputs": [
    {
     "data": {
      "text/plain": [
       "False"
      ]
     },
     "execution_count": 267,
     "metadata": {},
     "output_type": "execute_result"
    }
   ],
   "source": [
    "g = Graph(7)\n",
    "g.addEdge(1,3)\n",
    "g.addEdge(3,5)\n",
    "g.addEdge(2,5)\n",
    "g.addEdge(4,2)\n",
    "g.addEdge(4,1)\n",
    "bipartite = BreadthFirstPaths(g)\n",
    "bipartite.isBipartite(g,2)"
   ]
  },
  {
   "cell_type": "markdown",
   "id": "3db3579a",
   "metadata": {},
   "source": [
    "3."
   ]
  },
  {
   "cell_type": "code",
   "execution_count": 292,
   "id": "e03d6619",
   "metadata": {},
   "outputs": [],
   "source": [
    "class Digraph:\n",
    "    def __init__(self, V):\n",
    "        self.V = V\n",
    "        self.adj = []\n",
    "        self.id = list(range(0, self.V))\n",
    "        for _ in range (0,V):\n",
    "            self.adj.append([])\n",
    "            \n",
    "    def addEdge(self, v, w):\n",
    "        self.adj[v].append(w)\n",
    "        \n",
    "    def adjacent (self, v):\n",
    "        return self.adj[v]\n",
    "    \n",
    "class DFS:\n",
    "    def __init__(self, G):\n",
    "        self.marked = [False for v in range(0, G.V)]\n",
    "        self.connectMatrix = [[False for v in range (0, G.V)]for v in range (0, G.V)]\n",
    "        self.connected = []\n",
    "        for v in range (0, G.V):\n",
    "            for i in self.dfs (G,v):\n",
    "                self.connectMatrix[v][i] = True\n",
    "                self.connected = []\n",
    "                self.marked = [False for v in range(0, G.V)]\n",
    "                \n",
    "    def dfs(self, G, v):\n",
    "        self.marked[v] = True\n",
    "        for w in G.adjacent(v):\n",
    "            self.connected.append(w)\n",
    "            if not self.marked[w]:\n",
    "                self.dfs(G, w)\n",
    "        return self.connected\n",
    "                "
   ]
  },
  {
   "cell_type": "code",
   "execution_count": 296,
   "id": "db0f0c5e",
   "metadata": {},
   "outputs": [
    {
     "data": {
      "text/plain": [
       "[[True, False, True, True, True, True, True],\n",
       " [True, False, True, True, True, True, True],\n",
       " [True, False, True, True, True, True, True],\n",
       " [False, False, False, False, False, False, False],\n",
       " [True, False, True, True, True, True, True],\n",
       " [True, False, True, True, True, True, True],\n",
       " [False, False, False, False, False, False, False]]"
      ]
     },
     "execution_count": 296,
     "metadata": {},
     "output_type": "execute_result"
    }
   ],
   "source": [
    "dg = Digraph(7)\n",
    "dg.addEdge(0,6)\n",
    "dg.addEdge(0,2)\n",
    "dg.addEdge(1,0)\n",
    "dg.addEdge(5,0)\n",
    "dg.addEdge(2,3)\n",
    "#dg.addEdge(3,2)\n",
    "#dg.addEdge(3,4)\n",
    "dg.addEdge(2,4)\n",
    "dg.addEdge(4,5)\n",
    "dg.addEdge(5,3)\n",
    "dg.addEdge(4,6)\n",
    "dfs = DFS(dg)\n",
    "dfs.connectMatrix"
   ]
  },
  {
   "cell_type": "markdown",
   "id": "38935a54",
   "metadata": {},
   "source": [
    "4."
   ]
  },
  {
   "cell_type": "code",
   "execution_count": 374,
   "id": "bd5ff097",
   "metadata": {},
   "outputs": [],
   "source": [
    "class Graph:\n",
    "    def __init__(self, actors):\n",
    "        self.V = len(actors)\n",
    "        self.adj = {}\n",
    "        self.times = {}\n",
    "        for i in actors:\n",
    "            self.adj[i] = []\n",
    "            \n",
    "    def addEdge(self, v, w):\n",
    "        self.adj[v].append(w)\n",
    "        self.adj[w].append(v)\n",
    "        if (v,w) in self.times.keys():\n",
    "            result = self.times[(v,w)]\n",
    "            self.times[(v,w)] = result + 1\n",
    "            self.times[(w,v)] = result + 1\n",
    "        else:\n",
    "            self.times[(v,w)] = 1\n",
    "            self.times[(w,v)] = 1\n",
    "        \n",
    "    def adjacent (self, v):\n",
    "        return self.adj[v]\n",
    "                \n",
    "class BreadthFirstPaths:\n",
    "    def __init__(self, G):\n",
    "        self.distToSource = {}\n",
    "        self.visited = []\n",
    "        \n",
    "    def bfs(self, G, s):\n",
    "        q = []\n",
    "        q.append(s)\n",
    "        self.distToSource[s] = 0\n",
    "        while len(q) > 0:\n",
    "            v = q.pop(0)\n",
    "            for w in G.adjacent(v):\n",
    "                if w not in self.distToSource.keys():\n",
    "                    q.append(w)\n",
    "                    self.distToSource[w] = self.distToSource[v]+1"
   ]
  },
  {
   "cell_type": "code",
   "execution_count": 380,
   "id": "0206ea67",
   "metadata": {},
   "outputs": [],
   "source": [
    "import itertools\n",
    "allActors = []\n",
    "movies = [[\"Van\", \"Lanice\", \"Evan\"], [\"Lucy\", \"Emma\", \"Evan\", \"Van\"], [\"Lanice\", \"Evan\"], [\"Emma\", \"Tom\", \"Ashley\"]]\n",
    "for i in range(len(movies)):\n",
    "    for actor in movies[i]:\n",
    "        if actor not in allActors:\n",
    "            allActors.append(actor)\n",
    "g = Graph(allActors)\n",
    "\n",
    "for i in range(len(movies)):\n",
    "    for j in itertools.combinations(movies[i], 2):\n",
    "        g.addEdge(j[0], j[1])\n",
    "        \n",
    "def everPerform(a,b):\n",
    "    return b in g.adjacent(a)\n",
    "\n",
    "def howMany(a,b):\n",
    "    if not everPerform(a,b):\n",
    "        return 0\n",
    "    return g.times[a,b]\n",
    "\n",
    "def separation(a,b):\n",
    "    bfs = BreadthFirstPaths(g)\n",
    "    bfs.bfs(g,a)\n",
    "    if a not in allActors or b not in allActors:\n",
    "        return -1\n",
    "    return bfs.distToSource[b]"
   ]
  },
  {
   "cell_type": "code",
   "execution_count": 389,
   "id": "83ba0159",
   "metadata": {},
   "outputs": [
    {
     "data": {
      "text/plain": [
       "2"
      ]
     },
     "execution_count": 389,
     "metadata": {},
     "output_type": "execute_result"
    }
   ],
   "source": [
    "howMany(\"Evan\", \"Van\")"
   ]
  },
  {
   "cell_type": "code",
   "execution_count": null,
   "id": "87d49b88",
   "metadata": {},
   "outputs": [],
   "source": []
  }
 ],
 "metadata": {
  "kernelspec": {
   "display_name": "Python 3",
   "language": "python",
   "name": "python3"
  },
  "language_info": {
   "codemirror_mode": {
    "name": "ipython",
    "version": 3
   },
   "file_extension": ".py",
   "mimetype": "text/x-python",
   "name": "python",
   "nbconvert_exporter": "python",
   "pygments_lexer": "ipython3",
   "version": "3.6.5"
  }
 },
 "nbformat": 4,
 "nbformat_minor": 5
}
