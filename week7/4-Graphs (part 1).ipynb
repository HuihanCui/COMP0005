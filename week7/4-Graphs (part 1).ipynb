{
 "cells": [
  {
   "cell_type": "markdown",
   "metadata": {},
   "source": [
    "# Undirected and Directed Graphs\n",
    "In this assignment we implement a number of graph data structures and algorithms, to represent and manipulate both undirected and directed graphs.\n"
   ]
  },
  {
   "cell_type": "markdown",
   "metadata": {},
   "source": [
    "## Exercise – Union-Find Algorithm for Cycle Detection\n"
   ]
  },
  {
   "cell_type": "markdown",
   "metadata": {},
   "source": [
    "We begin by representing a directed graph using adjacency lists. "
   ]
  },
  {
   "cell_type": "code",
   "execution_count": 1,
   "metadata": {},
   "outputs": [],
   "source": [
    "class Graph:\n",
    "    def __init__(self, edges, N):\n",
    "        self.adjList = [[] for _ in range(N)]\n",
    "        # add edges to the graph\n",
    "        for (u, v) in edges:\n",
    "            self.adjList[u].append(v)\n"
   ]
  },
  {
   "cell_type": "markdown",
   "metadata": {},
   "source": [
    "We then use the UF algorithm (lazy / quick union approach) as follow: first we put each vertex in its own disjoint set. We then iterate over all edges <tt>(u,v)</tt> in the graph, finding their roots; if <tt>root(u)==root(v)</tt>, then a cycle is found; otherwise we perform a union operation."
   ]
  },
  {
   "cell_type": "code",
   "execution_count": 2,
   "metadata": {},
   "outputs": [],
   "source": [
    "class UnionFind:\n",
    "    def __init__(self, N):\n",
    "        self.parent = [i for i in range(0, N)]\n",
    "\n",
    "    # root operation\n",
    "    def root(self, u):\n",
    "        while u != self.parent[u]:\n",
    "            u = self.parent[u]\n",
    "        return u\n",
    "\n",
    "    # find operation\n",
    "    def find(self, u, v):\n",
    "        return self.root(u)==self.root(v)\n",
    "\n",
    "    # union operation\n",
    "    def union(self, u,v):\n",
    "        r_u = self.root(u)\n",
    "        r_v = self.root(v)\n",
    "        self.parent[r_u] = self.parent[r_v]"
   ]
  },
  {
   "cell_type": "code",
   "execution_count": 3,
   "metadata": {},
   "outputs": [],
   "source": [
    "# returns true if graph has cycle\n",
    "def findCycle(graph, N):\n",
    "\n",
    "    # create singleton sets for each vertex in the graph\n",
    "    uf = UnionFind(N)\n",
    " \n",
    "    # consider every edge (u, v)\n",
    "    for u in range(N):\n",
    "        for v in graph.adjList[u]:\n",
    "            # find roots of the sets to which elements u and v belong\n",
    "            root_u = uf.root(u)\n",
    "            root_v = uf.root(v)\n",
    "\n",
    "            # if u and v have the same root, a cycle is found\n",
    "            if root_u == root_v:\n",
    "                return True\n",
    "            else:\n",
    "                uf.union(root_u, root_v)\n",
    "    return False"
   ]
  },
  {
   "cell_type": "code",
   "execution_count": 5,
   "metadata": {},
   "outputs": [
    {
     "name": "stdout",
     "output_type": "stream",
     "text": [
      "Cycle not found\n",
      "Cycle found\n"
     ]
    }
   ],
   "source": [
    "# test code\n",
    "\n",
    "# number of vertices in the graph\n",
    "N = 12\n",
    "\n",
    "edges = [(0, 1), (0, 6), (0, 7), (0, 2), (1, 5), (2, 3), (2, 4), (7, 8), (7, 11), (8, 9), (8, 10)]\n",
    "graph = Graph(edges, N)\n",
    "\n",
    "if findCycle(graph, N):\n",
    "    print(\"Cycle found\")\n",
    "else:\n",
    "    print(\"Cycle not found\")\n",
    "    \n",
    "# edge (10, 11) introduces a cycle in the graph]\n",
    "edges = [(0, 1), (0, 6), (0, 7), (0, 2), (1, 5), (2, 3), (2, 4), (7, 8), (7, 11), (8, 9), (8, 10), (10, 11)]\n",
    "edges = [(0,1), (0,2), (1,2)]\n",
    "graph = Graph(edges, N)\n",
    "\n",
    "if findCycle(graph, N):\n",
    "    print(\"Cycle found\")\n",
    "else:\n",
    "    print(\"Cycle not found\")\n",
    "\n"
   ]
  },
  {
   "cell_type": "markdown",
   "metadata": {},
   "source": [
    "## Exercise - is a graph G bipartite?\n",
    "A bipartite graph is one where vertices can be divided into two disjoint subsets U and V, and all edges have one endpoint in U and the other endpoint in V.\n",
    "\n",
    "To test whether G is bipartite, we begin by representing G using adjacency lists. "
   ]
  },
  {
   "cell_type": "code",
   "execution_count": null,
   "metadata": {},
   "outputs": [],
   "source": [
    "class Graph:\n",
    "    def __init__(self, edges, N):\n",
    "        self.adjList = [[] for _ in range(N)]\n",
    "        # add edges to the graph\n",
    "        for (u, v) in edges:\n",
    "            self.adjList[u].append(v)\n",
    "            self.adjList[v].append(u)"
   ]
  },
  {
   "cell_type": "markdown",
   "metadata": {},
   "source": [
    "We then traverse G using BFS traversal (i.e., one level at a time). At each step, we \"color\" (label) the parent/child nodes with opposite colors (labels 0 and 1). If at any point we traverse an already colored (labelled) vertex with the same color, then the graph is not bipartite (same color basically represents being in the same set U or V). "
   ]
  },
  {
   "cell_type": "code",
   "execution_count": null,
   "metadata": {},
   "outputs": [],
   "source": [
    "from collections import deque\n",
    "\n",
    "# BFS on graph starting from vertex v\n",
    "def BFS(graph, v, N):\n",
    "\n",
    "    # records whether vertices have been visited or not\n",
    "    visited = [False] * N\n",
    "\n",
    "    # recall color (0/1) of each vertex in BFS\n",
    "    color = [None] * N\n",
    "\n",
    "    # mark source vertex as visited and set its color to 0\n",
    "    visited[v] = True\n",
    "    color[v] = 0\n",
    "\n",
    "    # deque-based implementation of BFS, performing level traversal of the graph\n",
    "    q = deque()\n",
    "    q.append(v)\n",
    "\n",
    "    while len(q) > 0:\n",
    "\n",
    "        v = q.popleft()\n",
    "\n",
    "        # process each edge (v --> u) in turn\n",
    "        for u in graph.adjList[v]:\n",
    "            # if  u has not been visited yet\n",
    "            if not visited[u]:\n",
    "                visited[u] = True\n",
    "                color[u] = (color[v] + 1) % 2\n",
    "                q.append(u)\n",
    "\n",
    "            # if u has already been visited and its color is the same of v, then the graph is not bipartite\n",
    "            elif color[v] == color[u]:\n",
    "                return False\n",
    "\n",
    "    return True\n"
   ]
  },
  {
   "cell_type": "code",
   "execution_count": null,
   "metadata": {},
   "outputs": [],
   "source": [
    "# test code\n",
    "N = 10\n",
    "\n",
    "# bipartite\n",
    "edges = [(0,1), (0,4), (0,6), (2,9), (3,6), (3,1), (5,8), (7,4), (7,9)]\n",
    "graph = Graph(edges, N)\n",
    "\n",
    "if BFS(graph, 0, N):\n",
    "    print(\"Graph is bipartite\")\n",
    "else:\n",
    "    print(\"Graph is not bipartite\")\n",
    "    \n",
    "# adding (3,0) makes G not bipartite\n",
    "edges = [(0,1), (0,4), (0,6), (2,9), (3,6), (3,1), (3,0), (5,8), (7,4), (7,9)]\n",
    "graph = Graph(edges, N)\n",
    "\n",
    "if BFS(graph, 0, N):\n",
    "    print(\"Graph is bipartite\")\n",
    "else:\n",
    "    print(\"Graph is not bipartite\")"
   ]
  },
  {
   "cell_type": "markdown",
   "metadata": {},
   "source": [
    "## Exercise – Transitive Closure of a Graph"
   ]
  },
  {
   "cell_type": "markdown",
   "metadata": {},
   "source": [
    "To find all vertices reachable from any given vertex <tt>u</tt>, we can use DFS (or BFS). By repeatedly calling DFS from every single vertex in G, we get the transitive closure of G. Time complexity: <tt>O(V(V+E))</tt> (which is much faster than <tt>V*V*V</tt> if G is sparse).\n",
    "\n",
    "We first represent a directed graph as an adjacency list:"
   ]
  },
  {
   "cell_type": "code",
   "execution_count": 6,
   "metadata": {},
   "outputs": [],
   "source": [
    "# adjacency list representation of an undirected graph\n",
    "class Graph:\n",
    "    def __init__(self, edges, N):\n",
    "        self.adjList = [[] for _ in range(N)]\n",
    "\n",
    "        for (u, v) in edges:\n",
    "            self.adjList[u].append(v)"
   ]
  },
  {
   "cell_type": "markdown",
   "metadata": {},
   "source": [
    "We then slightly modify DFS so to build the connectivity matrix CM as we explore the graph. For every child node reachable via DFS from the root, the node is added to CM."
   ]
  },
  {
   "cell_type": "code",
   "execution_count": 7,
   "metadata": {},
   "outputs": [],
   "source": [
    "def DFS(graph, CM, root, descendant):\n",
    "\n",
    "    for child in graph.adjList[descendant]:\n",
    "        if CM[root][child] == 0:\n",
    "            CM[root][child] = 1\n",
    "            DFS(graph, CM, root, child)"
   ]
  },
  {
   "cell_type": "markdown",
   "metadata": {},
   "source": [
    "We then call the modified DFS starting from each vertex in turn."
   ]
  },
  {
   "cell_type": "code",
   "execution_count": 8,
   "metadata": {},
   "outputs": [
    {
     "name": "stdout",
     "output_type": "stream",
     "text": [
      "[1, 0, 1, 0]\n",
      "[1, 1, 1, 0]\n",
      "[0, 0, 1, 0]\n",
      "[1, 1, 1, 1]\n"
     ]
    }
   ],
   "source": [
    "# test code\n",
    "N = 4\n",
    "edges = [(0, 2), (1, 0), (3, 1)]\n",
    "graph = Graph(edges, N)\n",
    "\n",
    "# CM is the connectivity matrix and stores the transitive closure of the graph\n",
    "# C[i][j] == 1 iif a directed path exists from vertex i to vertex j\n",
    "CM = [[0 for u in range(N)] for v in range(N)]\n",
    "\n",
    "# consider each vertex and start DFS from it\n",
    "for v in range(N):\n",
    "    CM[v][v] = 1\n",
    "    DFS(graph, CM, v, v)\n",
    "\n",
    "for v in range(N):\n",
    "    print(CM[v])"
   ]
  },
  {
   "cell_type": "code",
   "execution_count": 9,
   "metadata": {},
   "outputs": [
    {
     "name": "stdout",
     "output_type": "stream",
     "text": [
      "[1, 1, 1, 1, 1, 1, 1, 1, 1, 1, 1, 1]\n",
      "[0, 1, 0, 0, 0, 1, 0, 0, 0, 0, 0, 0]\n",
      "[0, 0, 1, 1, 1, 0, 0, 0, 0, 0, 0, 0]\n",
      "[0, 0, 0, 1, 0, 0, 0, 0, 0, 0, 0, 0]\n",
      "[0, 0, 0, 0, 1, 0, 0, 0, 0, 0, 0, 0]\n",
      "[0, 0, 0, 0, 0, 1, 0, 0, 0, 0, 0, 0]\n",
      "[0, 0, 0, 0, 0, 0, 1, 0, 0, 0, 0, 0]\n",
      "[0, 0, 0, 0, 0, 0, 0, 1, 1, 1, 1, 1]\n",
      "[0, 0, 0, 0, 0, 0, 0, 0, 1, 1, 1, 1]\n",
      "[0, 0, 0, 0, 0, 0, 0, 0, 0, 1, 0, 0]\n",
      "[0, 0, 0, 0, 0, 0, 0, 0, 0, 0, 1, 1]\n",
      "[0, 0, 0, 0, 0, 0, 0, 0, 0, 0, 0, 1]\n"
     ]
    }
   ],
   "source": [
    "# test code on a larger G\n",
    "N = 12\n",
    "edges = [(0, 1), (0, 6), (0, 7), (0, 2), (1, 5), (2, 3), (2, 4), (7, 8), (7, 11), (8, 9), (8, 10), (10, 11)]\n",
    "graph = Graph(edges, N)\n",
    "\n",
    "# CM is the connectivity matrix and stores the transitive closure of the graph\n",
    "# C[i][j] == 1 iif a directed path exists from vertex i to vertex j\n",
    "CM = [[0 for u in range(N)] for v in range(N)]\n",
    "\n",
    "# consider each vertex and start DFS from it\n",
    "for v in range(N):\n",
    "    CM[v][v] = 1\n",
    "    DFS(graph, CM, v, v)\n",
    "\n",
    "for v in range(N):\n",
    "    print(CM[v])"
   ]
  },
  {
   "cell_type": "markdown",
   "metadata": {},
   "source": [
    "## Exercise – IMDB Movie co-stars"
   ]
  },
  {
   "cell_type": "markdown",
   "metadata": {},
   "source": [
    "We represent actors' co-starring relationships as an undirected graph, with vertices being actors, and an edge placed between two vertices iif the two actors have performed in the same movie. Since the graph will be very sparse, we adopt an adjacency list representation. To efficiently support the API, we will use a weighted undirected graph, with the weight being the number of movies two actors have co-starred. Finally, to compute the degrees of separation between any two actors, we will run BFS."
   ]
  },
  {
   "cell_type": "code",
   "execution_count": null,
   "metadata": {},
   "outputs": [],
   "source": [
    "class Graph:\n",
    "    def __init__(self, edges):\n",
    "        # we assume \"egdges\" is a list, with each element in the list being a tuple [(actor a, actor b), count]\n",
    "        \n",
    "        # we use a dict() so to use actor names as indices\n",
    "        self.adjList = dict()\n",
    "\n",
    "        for (a1, a2), count in edges.items():\n",
    "            if  a1 in self.adjList:\n",
    "                self.adjList[a1].append((a2, count)) \n",
    "            else:\n",
    "                self.adjList[a1] = [(a2, count)]\n",
    "                \n",
    "            if a2 in self.adjList:\n",
    "                self.adjList[a2].append((a1, count)) \n",
    "            else:\n",
    "                self.adjList[a2] = [(a1, count)]\n",
    "        \n",
    "    def printGraph(self):\n",
    "        for a, costars in self.adjList.items():\n",
    "            print(\"actor\", a, \"played with:\", costars)\n",
    "            \n"
   ]
  },
  {
   "cell_type": "code",
   "execution_count": null,
   "metadata": {},
   "outputs": [],
   "source": [
    "# realisation of API \"Has actor a ever performed in a movie with actor b?\"\n",
    "def hasPerformed(G, a, b):\n",
    "    if a in G.adjList:\n",
    "        coactors = G.adjList[a]\n",
    "        if coactors is None:\n",
    "            return False\n",
    "        for (actor, count) in coactors:\n",
    "            if b == actor:\n",
    "                return True\n",
    "        return False\n",
    "    return False\n",
    "\n",
    "\n",
    "# realisation of API \"In how many movies have a and b performed together?\"\n",
    "def moviesTogether(G, a, b):\n",
    "    if a in G.adjList:\n",
    "        coactors = G.adjList[a]\n",
    "        if coactors is None:\n",
    "            return 0\n",
    "        for (actor, count) in coactors:\n",
    "            if b == actor:\n",
    "                return count\n",
    "        return 0\n",
    "    return 0"
   ]
  },
  {
   "cell_type": "code",
   "execution_count": null,
   "metadata": {},
   "outputs": [],
   "source": [
    "# realisation of API \"How many degrees of separation are there between actors a and b?\"\n",
    "# this relies on BFS\n",
    "\n",
    "from collections import deque\n",
    "\n",
    "def BFS(graph, v, N):\n",
    "    # records whether vertices have been visited and at what distance from the source\n",
    "    visited = dict()\n",
    "    distance = dict()\n",
    "\n",
    "    if v not in graph.adjList:\n",
    "        return distance\n",
    "    \n",
    "    # mark source vertex as visited and set its distance to 0\n",
    "    visited[v] = True\n",
    "    distance[v] = 0\n",
    "\n",
    "    # deque-based implementation of BFS, performing level traversal of the graph\n",
    "    q = deque()\n",
    "    q.append(v)\n",
    "\n",
    "    while len(q)>0:\n",
    "\n",
    "        v = q.popleft()\n",
    "\n",
    "        # do for every edge v --> (u, c)\n",
    "        for u, c in graph.adjList[v]:\n",
    "            # if  u has not been visited yet\n",
    "            if u not in visited:\n",
    "                visited[u] = True\n",
    "                distance[u] = distance[v] + 1\n",
    "                q.append(u)\n",
    "    return distance\n",
    "\n",
    "def degreesApart(G, a, b):\n",
    "    distance = BFS(G, a, len(G.adjList))\n",
    "    if b in distance:\n",
    "        return distance[b]\n",
    "    else:\n",
    "        return -1"
   ]
  },
  {
   "cell_type": "code",
   "execution_count": null,
   "metadata": {},
   "outputs": [],
   "source": [
    "# pre-process 3-imdbtest.txt file once, so to put in format [actor a, actor b, number of movies together]\n",
    "# the output file 4-imdbcostars.txt is then used in the test code\n",
    "\n",
    "def preprocessimdb():\n",
    "    with open('3-imdbtest.txt','r') as f:\n",
    "        line = f.readline()\n",
    "        edges = dict()\n",
    "        while line != '':\n",
    "            movie = line.split(\"/\")\n",
    "            actors = []\n",
    "            # gather all actors who played in movie\n",
    "            for i in range(1, len(movie)):\n",
    "                actors.append(movie[i].rstrip(\"\\n\"))\n",
    "            actors = sorted(actors)\n",
    "\n",
    "            # create edges to re-present each co-starring\n",
    "            for i in range(len(actors)):\n",
    "                for j in range(i+1, len(actors)):\n",
    "                    if (actors[i], actors[j]) not in edges:\n",
    "                        edges[(actors[i], actors[j])]=1\n",
    "                    else:\n",
    "                        edges[(actors[i], actors[j])] = edges[(actors[i], actors[j])] + 1\n",
    "            line = f.readline()\n",
    "\n",
    "    with open('4-imdbcostars.txt','w') as f:\n",
    "        for (a1, a2), count in edges.items():\n",
    "            line = a1 + \"/\" + a2 + \"/\" + str(count) +\"\\n\"\n",
    "            f.write(line)"
   ]
  },
  {
   "cell_type": "code",
   "execution_count": null,
   "metadata": {},
   "outputs": [],
   "source": [
    "#test code\n",
    "\n",
    "preprocessimdb()\n",
    "\n",
    "with open('4-imdbcostars.txt','r') as f:\n",
    "    line = f.readline()\n",
    "    edges =dict()\n",
    "    while line != '':\n",
    "        triplet = line.split(\"/\")\n",
    "        a1 = triplet[0]\n",
    "        a2 = triplet[1]\n",
    "        count = triplet[2]\n",
    "        edges[(a1,a2)] = int(count)\n",
    "        line = f.readline()\n",
    "             \n",
    "imdbGraph = Graph(edges)\n",
    "\n",
    "print(\"pre-processing complete\")\n"
   ]
  },
  {
   "cell_type": "code",
   "execution_count": null,
   "metadata": {},
   "outputs": [],
   "source": [
    "# expected output: True / 1\n",
    "print(hasPerformed(imdbGraph, \"Gray, Ian (I)\", \"Haywood, Chris (I)\"))\n",
    "print(moviesTogether(imdbGraph, \"Gray, Ian (I)\", \"Haywood, Chris (I)\"))\n",
    "\n",
    "# expected output: False / 0\n",
    "print(hasPerformed(imdbGraph, \"Gray, Ian (I)\", \"licia\"))\n",
    "print(moviesTogether(imdbGraph, \"licia\", \"Gray, Ian (I)\"))\n"
   ]
  },
  {
   "cell_type": "code",
   "execution_count": null,
   "metadata": {},
   "outputs": [],
   "source": [
    "# expected output: 1 / 2 / 3\n",
    "print(degreesApart(imdbGraph, \"Gray, Ian (I)\", \"Haywood, Chris (I)\"))\n",
    "print(degreesApart(imdbGraph, \"Gray, Ian (I)\", \"Venora, Diane\"))\n",
    "print(degreesApart(imdbGraph, \"Free, Christopher\", \"Gray, Ian (I)\"))"
   ]
  },
  {
   "cell_type": "code",
   "execution_count": null,
   "metadata": {},
   "outputs": [],
   "source": []
  }
 ],
 "metadata": {
  "kernelspec": {
   "display_name": "Python 3",
   "language": "python",
   "name": "python3"
  },
  "language_info": {
   "codemirror_mode": {
    "name": "ipython",
    "version": 3
   },
   "file_extension": ".py",
   "mimetype": "text/x-python",
   "name": "python",
   "nbconvert_exporter": "python",
   "pygments_lexer": "ipython3",
   "version": "3.6.5"
  }
 },
 "nbformat": 4,
 "nbformat_minor": 4
}
