{
 "cells": [
  {
   "cell_type": "markdown",
   "id": "f3c78a52",
   "metadata": {},
   "source": [
    "1."
   ]
  },
  {
   "cell_type": "code",
   "execution_count": 10,
   "id": "a3b18ece",
   "metadata": {},
   "outputs": [],
   "source": [
    "class Digraph:\n",
    "    def __init__(self, V):\n",
    "        self.V = V\n",
    "        self.adj = []\n",
    "        for _ in range (0,V):\n",
    "            self.adj.append([])\n",
    "            \n",
    "    def addEdge(self, v, w):\n",
    "        self.adj[v].append(w)\n",
    "        \n",
    "    def adjacent (self, v):\n",
    "        return self.adj[v]\n",
    "    \n",
    "class BreadthFirstPaths:\n",
    "    def __init__(self, G):\n",
    "        self.distToSource = [-1 for v in range (0, G.V)]\n",
    "        \n",
    "    def bfs(self, G, s):\n",
    "        max_d = 0\n",
    "        max_i = 0\n",
    "        q = []\n",
    "        q.append(s)\n",
    "        self.distToSource[s] = 0\n",
    "        while len(q) > 0:\n",
    "            v = q.pop(0)\n",
    "            for w in G.adjacent(v):\n",
    "                if self.distToSource[w] == -1:\n",
    "                    q.append(w)\n",
    "                    self.distToSource[w] = self.distToSource[v]+1\n",
    "                    if self.distToSource[w] > max_d:\n",
    "                        max_d = self.distToSource[w]\n",
    "                        max_i = w\n",
    "        return max_d, max_i"
   ]
  },
  {
   "cell_type": "code",
   "execution_count": 34,
   "id": "2980b116",
   "metadata": {},
   "outputs": [],
   "source": [
    "def diameter(dg):\n",
    "    diameter = 0\n",
    "    radius = 1000000\n",
    "    centers = []\n",
    "    for i in range(dg.V):\n",
    "        process = BreadthFirstPaths(dg)\n",
    "        max_d, max_i = process.bfs(dg,i)\n",
    "        if max_d > diameter:\n",
    "            diameter = max_d\n",
    "        if max_d <= radius:\n",
    "            if max_d == radius:\n",
    "                centers.append(i)\n",
    "            else:\n",
    "                radius = max_d\n",
    "                centers = [i]\n",
    "    return diameter, radius, centers"
   ]
  },
  {
   "cell_type": "code",
   "execution_count": 45,
   "id": "4b5073a4",
   "metadata": {},
   "outputs": [],
   "source": [
    "dg = Digraph(13)\n",
    "dg.addEdge(0,2)\n",
    "dg.addEdge(0,6)\n",
    "dg.addEdge(1,0)\n",
    "dg.addEdge(5,0)\n",
    "dg.addEdge(3,4)\n",
    "dg.addEdge(5,3)\n",
    "dg.addEdge(2,4)\n",
    "dg.addEdge(2,3)\n",
    "dg.addEdge(6,4)\n",
    "dg.addEdge(4,11)\n",
    "dg.addEdge(11,9)\n",
    "dg.addEdge(9,12)\n",
    "dg.addEdge(9,6)\n",
    "dg.addEdge(9,7)\n",
    "dg.addEdge(10,9)\n",
    "dg.addEdge(6,7)\n",
    "dg.addEdge(6,8)\n",
    "dg.addEdge(7,8)\n",
    "dg.addEdge(8,6)\n",
    "dg.addEdge(2,1)\n",
    "\n",
    "dg.addEdge(3,2)\n",
    "dg.addEdge(4,5)\n",
    "dg.addEdge(12,11)\n",
    "dg.addEdge(12,10)"
   ]
  },
  {
   "cell_type": "code",
   "execution_count": 46,
   "id": "26898213",
   "metadata": {},
   "outputs": [
    {
     "data": {
      "text/plain": [
       "(8, 4, [4])"
      ]
     },
     "execution_count": 46,
     "metadata": {},
     "output_type": "execute_result"
    }
   ],
   "source": [
    "diameter(dg)"
   ]
  },
  {
   "cell_type": "code",
   "execution_count": 47,
   "id": "d4cfa526",
   "metadata": {},
   "outputs": [
    {
     "name": "stdout",
     "output_type": "stream",
     "text": [
      "0 (6, 10)\n",
      "[0, 2, 1, 2, 2, 3, 1, 2, 2, 4, 6, 3, 5]\n",
      "1 (7, 10)\n",
      "[1, 0, 2, 3, 3, 4, 2, 3, 3, 5, 7, 4, 6]\n",
      "2 (5, 10)\n",
      "[2, 1, 0, 1, 1, 2, 3, 4, 4, 3, 5, 2, 4]\n",
      "3 (5, 10)\n",
      "[3, 2, 1, 0, 1, 2, 4, 4, 5, 3, 5, 2, 4]\n",
      "4 (4, 10)\n",
      "[2, 4, 3, 2, 0, 1, 3, 3, 4, 2, 4, 1, 3]\n",
      "5 (6, 10)\n",
      "[1, 3, 2, 1, 2, 0, 2, 3, 3, 4, 6, 3, 5]\n",
      "6 (5, 10)\n",
      "[3, 5, 4, 3, 1, 2, 0, 1, 1, 3, 5, 2, 4]\n",
      "7 (7, 10)\n",
      "[5, 7, 6, 5, 3, 4, 2, 0, 1, 5, 7, 4, 6]\n",
      "8 (6, 10)\n",
      "[4, 6, 5, 4, 2, 3, 1, 2, 0, 4, 6, 3, 5]\n",
      "9 (6, 1)\n",
      "[4, 6, 5, 4, 2, 3, 1, 1, 2, 0, 2, 2, 1]\n",
      "10 (7, 1)\n",
      "[5, 7, 6, 5, 3, 4, 2, 2, 3, 1, 0, 3, 2]\n",
      "11 (7, 1)\n",
      "[5, 7, 6, 5, 3, 4, 2, 2, 3, 1, 3, 0, 2]\n",
      "12 (8, 1)\n",
      "[6, 8, 7, 6, 4, 5, 3, 3, 4, 2, 1, 1, 0]\n"
     ]
    }
   ],
   "source": [
    "for i in range(13):\n",
    "    process = BreadthFirstPaths(dg)\n",
    "    print(i, process.bfs(dg,i))\n",
    "    print(process.distToSource)"
   ]
  },
  {
   "cell_type": "markdown",
   "id": "dacf22ee",
   "metadata": {},
   "source": [
    "2. undirected版本"
   ]
  },
  {
   "cell_type": "code",
   "execution_count": 61,
   "id": "c5c05af3",
   "metadata": {},
   "outputs": [],
   "source": [
    "class Graph:\n",
    "    def __init__(self, V):\n",
    "        self.V = V\n",
    "        self.adj = []\n",
    "        for _ in range (0,V):\n",
    "            self.adj.append([])\n",
    "            \n",
    "    def addEdge(self, v, w):\n",
    "        self.adj[v].append(w)\n",
    "        self.adj[w].append(v)\n",
    "        \n",
    "    def adjacent (self, v):\n",
    "        return self.adj[v]\n",
    "    \n",
    "class EulerCycle:\n",
    "    def __init__(self, G):\n",
    "        self.result = []\n",
    "        \n",
    "    def exist(self, G):\n",
    "        count = 0\n",
    "        index = []\n",
    "        for i in range(G.V):\n",
    "            if len(G.adjacent(i)) % 2 != 0:\n",
    "                count += 1\n",
    "                index.append(i)\n",
    "        if count == 0:\n",
    "            return True\n",
    "        return False\n",
    "    \n",
    "    def eulercycle(self, G):\n",
    "        if self.exist(G) == False:\n",
    "            return None\n",
    "        start = 0\n",
    "        while len(G.adjacent(start)) > 0:\n",
    "            if G.adjacent(start)[0] == 0 and len(G.adjacent(start)) > 1:\n",
    "                next = G.adjacent(start).pop(1)\n",
    "            else:\n",
    "                next = G.adjacent(start).pop(0)\n",
    "            G.adjacent(next).remove(start)\n",
    "            self.result.append((start, next))\n",
    "            start = next"
   ]
  },
  {
   "cell_type": "code",
   "execution_count": 66,
   "id": "849d89c3",
   "metadata": {},
   "outputs": [
    {
     "data": {
      "text/plain": [
       "[(0, 1), (1, 2), (2, 3), (3, 1), (1, 4), (4, 3), (3, 0)]"
      ]
     },
     "execution_count": 66,
     "metadata": {},
     "output_type": "execute_result"
    }
   ],
   "source": [
    "g = Graph(5)\n",
    "g.addEdge(0,1)\n",
    "g.addEdge(0,3)\n",
    "g.addEdge(1,2)\n",
    "g.addEdge(1,4)\n",
    "g.addEdge(1,3)\n",
    "g.addEdge(3,2)\n",
    "g.addEdge(3,4)\n",
    "\n",
    "ec = EulerCycle(g)\n",
    "ec.eulercycle(g)\n",
    "ec.result"
   ]
  },
  {
   "cell_type": "markdown",
   "id": "21772db5",
   "metadata": {},
   "source": [
    "3."
   ]
  },
  {
   "cell_type": "code",
   "execution_count": 88,
   "id": "f2b577ad",
   "metadata": {},
   "outputs": [],
   "source": [
    "class Digraph:\n",
    "    def __init__(self, V):\n",
    "        self.V = V\n",
    "        self.adj = []\n",
    "        for _ in range (0,V):\n",
    "            self.adj.append([])\n",
    "            \n",
    "    def addEdge(self, v, w):\n",
    "        self.adj[v].append(w)\n",
    "        \n",
    "    def adjacent (self, v):\n",
    "        return self.adj[v]\n",
    "    \n",
    "class TopologicalSort:\n",
    "    def __init__(self, G):\n",
    "        self.marked = [False for v in range (0, G.V)]\n",
    "        self.result = []\n",
    "        for v in range (0, G.V):\n",
    "            if not self.marked[v]:\n",
    "                self.dfs (G,v)\n",
    "                \n",
    "    def dfs(self, G, v):\n",
    "        self.marked[v] = True\n",
    "        for w in G.adjacent(v):\n",
    "            if not self.marked[w]:\n",
    "                self.dfs(G, w)\n",
    "        self.result.append(v)\n",
    "                \n",
    "    def reversePost(self):\n",
    "        return self.result[::-1]\n",
    "    \n",
    "class DirectedCycle:\n",
    "    def __init__(self, G):\n",
    "        self.marked = [False for v in range (0, G.V)]\n",
    "        self.onCallStack = [False for v in range (0, G.V)]\n",
    "        self.cycleDetected = False \n",
    "        for v in range (0, G.V):\n",
    "            if not self.marked[v]:\n",
    "                self.dfs(G,v)\n",
    "                \n",
    "    def dfs(self, G, v):\n",
    "        self.marked[v] = True\n",
    "        self.onCallStack[v] = True\n",
    "        for w in G.adjacent(v):\n",
    "            if self.cycleDetected:\n",
    "                return\n",
    "            elif not self.marked[w]:\n",
    "                self.dfs(G, w)\n",
    "            elif self.onCallStack[w]:\n",
    "                self.cycleDetected=True\n",
    "        self.onCallStack[v] = False"
   ]
  },
  {
   "cell_type": "code",
   "execution_count": 101,
   "id": "fc4385f3",
   "metadata": {},
   "outputs": [],
   "source": [
    "def existHamiltonian(G):\n",
    "    final = []\n",
    "    dag = DirectedCycle(G)\n",
    "    if dag.cycleDetected:\n",
    "        return []\n",
    "    ts = TopologicalSort(G)\n",
    "    result = ts.reversePost()\n",
    "    for i in range(len(result)-1):\n",
    "        if result[i+1] not in G.adjacent(result[i]):\n",
    "            return []\n",
    "        final.append((result[i], result[i+1]))\n",
    "    return final"
   ]
  },
  {
   "cell_type": "code",
   "execution_count": 103,
   "id": "673d6abe",
   "metadata": {},
   "outputs": [
    {
     "data": {
      "text/plain": [
       "[(3, 6), (6, 0), (0, 5), (5, 2), (2, 1), (1, 4)]"
      ]
     },
     "execution_count": 103,
     "metadata": {},
     "output_type": "execute_result"
    }
   ],
   "source": [
    "dg = Digraph(7)\n",
    "dg.addEdge(0,1)\n",
    "dg.addEdge(0,2)\n",
    "dg.addEdge(0,5)\n",
    "dg.addEdge(1,4)\n",
    "dg.addEdge(3,2)\n",
    "dg.addEdge(3,4)\n",
    "dg.addEdge(3,5)\n",
    "dg.addEdge(3,6)\n",
    "dg.addEdge(5,2)\n",
    "dg.addEdge(6,0)\n",
    "dg.addEdge(6,4)\n",
    "\n",
    "dg.addEdge(2,1)\n",
    "\n",
    "existHamiltonian(dg)"
   ]
  },
  {
   "cell_type": "markdown",
   "id": "2f2b4178",
   "metadata": {},
   "source": [
    "4. 一个基本没什么用的版本，想搞再说吧"
   ]
  },
  {
   "cell_type": "code",
   "execution_count": 174,
   "id": "7a82d9cb",
   "metadata": {},
   "outputs": [],
   "source": [
    "class Digraph:\n",
    "    def __init__(self, V):\n",
    "        self.V = V\n",
    "        self.adj = []\n",
    "        for _ in range (0,V):\n",
    "            self.adj.append([])\n",
    "            \n",
    "    def addEdge(self, v, w):\n",
    "        self.adj[v].append(w)\n",
    "        \n",
    "    def adjacent (self, v):\n",
    "        return self.adj[v]\n",
    "    \n",
    "class BreadthFirstPaths:\n",
    "    def __init__(self, G):\n",
    "        self.distToSource = [-1 for v in range (0, G.V)]\n",
    "        \n",
    "    def bfs(self, G, s):\n",
    "        q = []\n",
    "        q.append(s)\n",
    "        self.distToSource[s] = 0\n",
    "        while len(q) > 0:\n",
    "            v = q.pop(0)\n",
    "            for w in G.adjacent(v):\n",
    "                if self.distToSource[w] == -1:\n",
    "                    q.append(w)\n",
    "                    self.distToSource[w] = self.distToSource[v]+1\n",
    "    \n",
    "class DirectedCycle:\n",
    "    def __init__(self, G):\n",
    "        self.marked = [False for v in range (0, G.V)]\n",
    "        self.onCallStack = [False for v in range (0, G.V)]\n",
    "        self.cycleDetected = False \n",
    "        for v in range (0, G.V):\n",
    "            if not self.marked[v]:\n",
    "                self.dfs(G,v)\n",
    "                \n",
    "    def dfs(self, G, v):\n",
    "        self.marked[v] = True\n",
    "        self.onCallStack[v] = True\n",
    "        for w in G.adjacent(v):\n",
    "            if self.cycleDetected:\n",
    "                return\n",
    "            elif not self.marked[w]:\n",
    "                self.dfs(G, w)\n",
    "            elif self.onCallStack[w]:\n",
    "                self.cycleDetected=True\n",
    "        self.onCallStack[v] = False"
   ]
  },
  {
   "cell_type": "code",
   "execution_count": 183,
   "id": "e00a8cbe",
   "metadata": {},
   "outputs": [],
   "source": [
    "def shortestCycle(G):\n",
    "    min_length = 100000\n",
    "    index = 0\n",
    "    directed = DirectedCycle(G)\n",
    "    if not directed.cycleDetected:\n",
    "        #就没有cycle\n",
    "        return []\n",
    "    for i in range(G.V):\n",
    "        bfs = BreadthFirstPaths(G)\n",
    "        bfs.bfs(G,i)\n",
    "        if min(bfs.distToSource) == -1:\n",
    "            pass\n",
    "        else:\n",
    "            if max(bfs.distToSource) < min_length:\n",
    "                min_length = max(bfs.distToSource)\n",
    "                index = i\n",
    "    bfs = BreadthFirstPaths(G)\n",
    "    bfs.bfs(G,index)\n",
    "    length = (min_length + 1) * bfs.distToSource.count(min_length)\n",
    "    return length,index"
   ]
  },
  {
   "cell_type": "code",
   "execution_count": 187,
   "id": "aa4112cf",
   "metadata": {},
   "outputs": [
    {
     "data": {
      "text/plain": [
       "(5, 0)"
      ]
     },
     "execution_count": 187,
     "metadata": {},
     "output_type": "execute_result"
    }
   ],
   "source": [
    "dg = Digraph(5)\n",
    "dg.addEdge(0,2)\n",
    "dg.addEdge(2,4)\n",
    "dg.addEdge(4,1)\n",
    "dg.addEdge(1,3)\n",
    "dg.addEdge(3,0)\n",
    "\n",
    "shortestCycle(dg)"
   ]
  },
  {
   "cell_type": "code",
   "execution_count": null,
   "id": "0a6aed45",
   "metadata": {},
   "outputs": [],
   "source": []
  },
  {
   "cell_type": "code",
   "execution_count": null,
   "id": "51bd2ee0",
   "metadata": {},
   "outputs": [],
   "source": []
  }
 ],
 "metadata": {
  "kernelspec": {
   "display_name": "Python 3",
   "language": "python",
   "name": "python3"
  },
  "language_info": {
   "codemirror_mode": {
    "name": "ipython",
    "version": 3
   },
   "file_extension": ".py",
   "mimetype": "text/x-python",
   "name": "python",
   "nbconvert_exporter": "python",
   "pygments_lexer": "ipython3",
   "version": "3.6.5"
  }
 },
 "nbformat": 4,
 "nbformat_minor": 5
}
