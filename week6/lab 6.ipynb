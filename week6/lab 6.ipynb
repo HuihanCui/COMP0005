{
 "cells": [
  {
   "cell_type": "markdown",
   "id": "1db2af7e",
   "metadata": {},
   "source": [
    "5."
   ]
  },
  {
   "cell_type": "code",
   "execution_count": 101,
   "id": "2ea13fec",
   "metadata": {},
   "outputs": [],
   "source": [
    "class Dict():\n",
    "    def __init__(self, capacity):\n",
    "        self.capacity = capacity\n",
    "        self.hash_table = [(None,None) for i in range(self.capacity)]\n",
    "        \n",
    "    def hash1(self,x):\n",
    "        return x % self.capacity\n",
    "        \n",
    "    def put(self, key, value):\n",
    "        hash_k = self.hash1(key)\n",
    "        \n",
    "        while self.hash_table[hash_k][0] != None:\n",
    "            if self.hash_table[hash_k][0] == key:\n",
    "                self.hash_table[hash_k] = (key,value)\n",
    "                return\n",
    "            else:\n",
    "                hash_k = (hash_k + 1) % self.capacity\n",
    "        self.hash_table[hash_k] = (key,value)\n",
    "        \n",
    "    def get(self, key):\n",
    "        hash_k = self.hash1(key)\n",
    "        h_key, value = self.hash_table[hash_k]\n",
    "        if h_key == key:\n",
    "            return value\n",
    "        else:\n",
    "            for i in range(self.capacity):\n",
    "                hash_k = self.hash1(key+i)\n",
    "                h_key, value = self.hash_table[hash_k]\n",
    "                if h_key == key:\n",
    "                    return value\n",
    "        return None\n",
    "    \n",
    "class OuterNode():\n",
    "    def __init__(self, x, capacity):\n",
    "        self.key = x\n",
    "        self.table = Dict(capacity)\n",
    "        self.next = None\n",
    "        \n",
    "    def add(self,outernode):\n",
    "        self.next = outernode\n",
    "        \n",
    "    def get(self, y):\n",
    "        return self.table.get(y)\n",
    "        \n",
    "    def put(self, y, value):\n",
    "        self.table.put(y, value)\n",
    "            \n",
    "class OuterTable:\n",
    "    def __init__(self, size_x, size_y):\n",
    "        self.M = size_x // 3 + 1\n",
    "        self.size_x = size_x\n",
    "        self.size_y = size_y\n",
    "        self.ht = [None] * self.M\n",
    "\n",
    "    def hash1(self, key):\n",
    "        return key % self.M\n",
    "    \n",
    "    def get(self, key1, key2):\n",
    "        i = self.hash1(key1)\n",
    "        x = self.ht[i]\n",
    "        while (x!=None):\n",
    "            if (x.key==key1):\n",
    "                return x.get(key2)\n",
    "            else:\n",
    "                x = x.next\n",
    "        return None\n",
    "    \n",
    "    def put(self, key1, key2, value):\n",
    "        i = self.hash1(key1)\n",
    "        x = self.ht[i]\n",
    "        while (x!=None):\n",
    "            if (x.key==key1): \n",
    "                x.put(key2, value)\n",
    "                return\n",
    "            else:\n",
    "                x = x.next\n",
    "        n = OuterNode(key1, self.size_y * 2)\n",
    "        n.put(key2, value)\n",
    "        n.add(self.ht[i])\n",
    "        self.ht[i] = n \n",
    "        \n",
    "def generate(matrix):\n",
    "    size_x = len(matrix)\n",
    "    size_y = len(matrix[0])\n",
    "    table = OuterTable(size_x, size_y)\n",
    "    for i in range(len(matrix)):\n",
    "        for j in range(len(matrix[0])):\n",
    "            if matrix[i][j] != 0:\n",
    "                table.put(i, j, matrix[i][j])\n",
    "    return table\n",
    "\n",
    "def getAllEntries(table):\n",
    "    result = []\n",
    "    for i in table.ht:\n",
    "        while i != None:\n",
    "            for j in i.table.hash_table:\n",
    "                if j[0] != None:\n",
    "                    result.append((i.key, j[0], j[1]))\n",
    "            i = i.next\n",
    "    return result\n",
    "\n",
    "def addition(table1, table2):\n",
    "    if not (table1.size_x == table2.size_x and table1.size_y == table2.size_y):\n",
    "        return None\n",
    "    for i in getAllEntries(table1):\n",
    "        current = table2.get(i[0],i[1])\n",
    "        if current != None:\n",
    "            table2.put(i[0], i[1], i[2] + current)\n",
    "        else:\n",
    "            table2.put(i[0], i[1], i[2])\n",
    "    return table2\n",
    "\n",
    "def toMatrix(table):\n",
    "    if table == None:\n",
    "        return None\n",
    "    matrix = [[0 for j in range(table.size_y)] for k in range(table.size_x)]\n",
    "    for i in getAllEntries(table):\n",
    "        matrix[i[0]][i[1]] = i[2]\n",
    "    return matrix\n",
    "\n",
    "def multiplication(table1, table2):\n",
    "    if not (table1.size_y == table2.size_x):\n",
    "        return None\n",
    "    table3 = OuterTable(table1.size_x, table2.size_y)\n",
    "    for i in getAllEntries(table1):\n",
    "         for j in getAllEntries(table2):\n",
    "            if i[1] == j[0]:\n",
    "                current = table3.get(i[0], j[1])\n",
    "                if current != None:\n",
    "                    table3.put(i[0], j[1], current + i[2] * j[2])\n",
    "                else:\n",
    "                    table3.put(i[0], j[1], i[2] * j[2])\n",
    "    return table3"
   ]
  },
  {
   "cell_type": "code",
   "execution_count": 102,
   "id": "9c1383c8",
   "metadata": {},
   "outputs": [],
   "source": [
    "def normalAdd(m1, m2):\n",
    "    if not (len(m1) == len(m2) and len(m1[0]) == len(m2[0])):\n",
    "        return None\n",
    "    result = [[0 for j in range(len(m1[0]))] for k in range(len(m1))]\n",
    "    for i in range(len(m1)):\n",
    "        for j in range(len(m1[0])):\n",
    "            result[i][j] = m1[i][j] + m2[i][j]\n",
    "    return result\n",
    "    \n",
    "def normalMul(m1, m2):\n",
    "    if not (len(m1[0]) == len(m2)):\n",
    "        return None\n",
    "    result = [[0 for j in range(len(m2[0]))] for k in range(len(m1))]\n",
    "    for i in range(len(m1)):\n",
    "        for j in range(len(m1[0])):\n",
    "            for k in range(len(m2[0])):\n",
    "                result[i][k] += m1[i][j] * m2[j][k]\n",
    "    return result"
   ]
  },
  {
   "cell_type": "code",
   "execution_count": 103,
   "id": "164ca5d9",
   "metadata": {},
   "outputs": [],
   "source": [
    "matrix = [[0,0,0,0,0,0,0,2,0,0],\n",
    "          [0,0,0,0,0,0,7,0,0,0],\n",
    "          [0,0,0,0,0,0,0,0,0,0],\n",
    "          [0,4,0,0,3,0,0,0,0,0],\n",
    "          [0,0,0,0,0,0,0,0,0,9],\n",
    "          [1,0,0,0,0,0,0,0,0,0]\n",
    "         ]\n",
    "table = generate(matrix)\n",
    "\n",
    "matrix2 = [[0,0,0],\n",
    "           [8,0,0],\n",
    "           [0,0,1],\n",
    "           [0,0,0],\n",
    "           [0,5,0],\n",
    "           [0,0,0],\n",
    "           [7,0,0],\n",
    "           [0,6,0],\n",
    "           [0,0,0],\n",
    "           [0,0,9]\n",
    "         ]\n",
    "table2 = generate(matrix2)\n",
    "\n",
    "matrix3 = [[0,4,0,0,0,0,0,0,6,0],\n",
    "          [0,0,0,1,0,0,0,0,0,0],\n",
    "          [0,3,0,0,0,0,0,0,0,0],\n",
    "          [0,0,0,0,0,0,0,0,0,0],\n",
    "          [0,0,0,0,0,7,0,0,0,0],\n",
    "          [0,0,0,5,0,0,0,0,0,0]]\n",
    "table3 = generate(matrix3)"
   ]
  },
  {
   "cell_type": "code",
   "execution_count": 104,
   "id": "1b6c2a6c",
   "metadata": {},
   "outputs": [
    {
     "name": "stdout",
     "output_type": "stream",
     "text": [
      "8.080000020527223e-05\n",
      "3.2899999951041536e-05\n"
     ]
    },
    {
     "data": {
      "text/plain": [
       "True"
      ]
     },
     "execution_count": 104,
     "metadata": {},
     "output_type": "execute_result"
    }
   ],
   "source": [
    "import timeit\n",
    "s1 = timeit.default_timer()\n",
    "\n",
    "toMatrix(addition(table, table3))\n",
    "\n",
    "e1 = timeit.default_timer()\n",
    "t1 = e1 - s1\n",
    "\n",
    "s2 = timeit.default_timer()\n",
    "\n",
    "normalAdd(matrix, matrix3)\n",
    "\n",
    "e2 = timeit.default_timer()\n",
    "t2 = e2 - s2\n",
    "\n",
    "print(t1)\n",
    "print(t2)\n",
    "t1 > t2"
   ]
  },
  {
   "cell_type": "code",
   "execution_count": 105,
   "id": "4c5da488",
   "metadata": {},
   "outputs": [
    {
     "name": "stdout",
     "output_type": "stream",
     "text": [
      "8.58000000789616e-05\n",
      "5.020000003241876e-05\n"
     ]
    },
    {
     "data": {
      "text/plain": [
       "True"
      ]
     },
     "execution_count": 105,
     "metadata": {},
     "output_type": "execute_result"
    }
   ],
   "source": [
    "s1 = timeit.default_timer()\n",
    "\n",
    "toMatrix(multiplication(table, table2))\n",
    "\n",
    "e1 = timeit.default_timer()\n",
    "t1 = e1 - s1\n",
    "\n",
    "s2 = timeit.default_timer()\n",
    "\n",
    "normalMul(matrix, matrix2)\n",
    "\n",
    "e2 = timeit.default_timer()\n",
    "t2 = e2 - s2\n",
    "\n",
    "print(t1)\n",
    "print(t2)\n",
    "t1 > t2"
   ]
  },
  {
   "cell_type": "code",
   "execution_count": 106,
   "id": "1a23d7c3",
   "metadata": {},
   "outputs": [
    {
     "name": "stdout",
     "output_type": "stream",
     "text": [
      "56\n",
      "112\n"
     ]
    }
   ],
   "source": [
    "import sys\n",
    "print(sys.getsizeof(table))\n",
    "print(sys.getsizeof(matrix))"
   ]
  },
  {
   "cell_type": "code",
   "execution_count": 88,
   "id": "2cec6dad",
   "metadata": {},
   "outputs": [
    {
     "data": {
      "text/plain": [
       "array([[ 0, 12,  0],\n",
       "       [49,  0,  0],\n",
       "       [ 0,  0,  0],\n",
       "       [32, 15,  0],\n",
       "       [ 0,  0, 81],\n",
       "       [ 0,  0,  0]])"
      ]
     },
     "execution_count": 88,
     "metadata": {},
     "output_type": "execute_result"
    }
   ],
   "source": [
    "import numpy as np\n",
    "np.dot(matrix, matrix2)"
   ]
  },
  {
   "cell_type": "code",
   "execution_count": 90,
   "id": "cebce545",
   "metadata": {},
   "outputs": [
    {
     "data": {
      "text/plain": [
       "array([[0, 4, 0, 0, 0, 0, 0, 2, 6, 0],\n",
       "       [0, 0, 0, 1, 0, 0, 7, 0, 0, 0],\n",
       "       [0, 3, 0, 0, 0, 0, 0, 0, 0, 0],\n",
       "       [0, 4, 0, 0, 3, 0, 0, 0, 0, 0],\n",
       "       [0, 0, 0, 0, 0, 7, 0, 0, 0, 9],\n",
       "       [1, 0, 0, 5, 0, 0, 0, 0, 0, 0]])"
      ]
     },
     "execution_count": 90,
     "metadata": {},
     "output_type": "execute_result"
    }
   ],
   "source": [
    "np.add(matrix, matrix3)"
   ]
  },
  {
   "cell_type": "code",
   "execution_count": null,
   "id": "49e4311e",
   "metadata": {},
   "outputs": [],
   "source": []
  }
 ],
 "metadata": {
  "kernelspec": {
   "display_name": "Python 3",
   "language": "python",
   "name": "python3"
  },
  "language_info": {
   "codemirror_mode": {
    "name": "ipython",
    "version": 3
   },
   "file_extension": ".py",
   "mimetype": "text/x-python",
   "name": "python",
   "nbconvert_exporter": "python",
   "pygments_lexer": "ipython3",
   "version": "3.6.5"
  }
 },
 "nbformat": 4,
 "nbformat_minor": 5
}
