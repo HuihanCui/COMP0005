{
 "cells": [
  {
   "cell_type": "markdown",
   "id": "f48c8d3b",
   "metadata": {},
   "source": [
    "1."
   ]
  },
  {
   "cell_type": "code",
   "execution_count": 20,
   "id": "2325b6d2",
   "metadata": {},
   "outputs": [],
   "source": [
    "def merge(a, b):\n",
    "    i = 0 \n",
    "    j = 0\n",
    "    result = []\n",
    "    while i < len(a) and j < len(b):\n",
    "        if a[i] < b[j]:\n",
    "            result.append(a[i])\n",
    "            i += 1\n",
    "        else:\n",
    "            result.append(b[j])\n",
    "            j += 1\n",
    "    if i < len(a):\n",
    "        for k in range(i, len(a)):\n",
    "            result.append(a[k])\n",
    "    else:\n",
    "        for k in range(j, len(b)):\n",
    "            result.append(b[k])\n",
    "    return result\n",
    "\n",
    "def mergesort(list):\n",
    "    mid = len(list) // 2\n",
    "    if mid == 0:\n",
    "        return list\n",
    "    return merge(mergesort(list[:mid]), mergesort(list[mid:]))"
   ]
  },
  {
   "cell_type": "code",
   "execution_count": 23,
   "id": "8302a5e9",
   "metadata": {},
   "outputs": [],
   "source": [
    "def anagram(x):\n",
    "    dic = {}\n",
    "    for i in x:\n",
    "        stringtolist = list(i)\n",
    "        stringtolist = mergesort(stringtolist)\n",
    "        listtostring = \"\".join(stringtolist)\n",
    "        if listtostring in dic:\n",
    "            dic[listtostring].append(i)\n",
    "        else:\n",
    "            dic[listtostring] = [i]\n",
    "    for i in dic.values():\n",
    "        print(i)"
   ]
  },
  {
   "cell_type": "code",
   "execution_count": 24,
   "id": "10b2169f",
   "metadata": {},
   "outputs": [
    {
     "name": "stdout",
     "output_type": "stream",
     "text": [
      "['eat', 'tea', 'ate']\n",
      "['part', 'trap']\n",
      "['pass']\n"
     ]
    }
   ],
   "source": [
    "anagram([\"eat\", \"tea\", \"part\", \"ate\", \"trap\", \"pass\"])"
   ]
  },
  {
   "cell_type": "code",
   "execution_count": 25,
   "id": "4955a6ab",
   "metadata": {},
   "outputs": [],
   "source": [
    "def anagram2(x):\n",
    "    index = 0\n",
    "    result = []\n",
    "    dic = {}\n",
    "    for i in x:\n",
    "        stringtolist = list(i)\n",
    "        stringtolist = mergesort(stringtolist)\n",
    "        listtostring = \"\".join(stringtolist)\n",
    "        if listtostring in dic:\n",
    "            result[dic[listtostring]].append(i)\n",
    "        else:\n",
    "            dic[listtostring] = index\n",
    "            result.append([i])\n",
    "            index += 1\n",
    "    return result"
   ]
  },
  {
   "cell_type": "code",
   "execution_count": 26,
   "id": "e55af181",
   "metadata": {},
   "outputs": [
    {
     "data": {
      "text/plain": [
       "[['eat', 'tea', 'ate'], ['part', 'trap'], ['pass']]"
      ]
     },
     "execution_count": 26,
     "metadata": {},
     "output_type": "execute_result"
    }
   ],
   "source": [
    "anagram2([\"eat\", \"tea\", \"part\", \"ate\", \"trap\", \"pass\"])"
   ]
  },
  {
   "cell_type": "markdown",
   "id": "78be4571",
   "metadata": {},
   "source": [
    "2."
   ]
  },
  {
   "cell_type": "code",
   "execution_count": 109,
   "id": "c70ce171",
   "metadata": {},
   "outputs": [],
   "source": [
    "def partition(l):\n",
    "    l.insert(0,0)\n",
    "    pivot = 0\n",
    "    start = 0\n",
    "    end = len(l) - 1\n",
    "    while start < end:\n",
    "        while start < end and l[end] >= 0:\n",
    "            end -= 1\n",
    "        l[start] = l[end]\n",
    "        while start < end and l[start] <= 0:\n",
    "            start += 1\n",
    "        l[end] = l[start]\n",
    "    l[start] = pivot\n",
    "    return mergesort(l[:start]), mergesort(l[start+1:])\n",
    "\n",
    "def separate_quick(l):\n",
    "    left, right = partition(l)\n",
    "    result = []\n",
    "    neg = len(left) - 1\n",
    "    pos = 0\n",
    "    while neg >-1 and pos<len(right):\n",
    "        result.append(right[pos])\n",
    "        pos += 1\n",
    "        result.append(left[neg])\n",
    "        neg -= 1\n",
    "    if neg>-1:\n",
    "        for i in range(neg,-1,-1):\n",
    "            result.append(left[i])\n",
    "    else:\n",
    "        for i in range(pos, len(right)):\n",
    "            result.append(right[i])\n",
    "    return result"
   ]
  },
  {
   "cell_type": "code",
   "execution_count": 110,
   "id": "905677ae",
   "metadata": {},
   "outputs": [
    {
     "data": {
      "text/plain": [
       "[1, -4, 2, -8, 5, -10, 6, 7, 11, 12, 16]"
      ]
     },
     "execution_count": 110,
     "metadata": {},
     "output_type": "execute_result"
    }
   ],
   "source": [
    "separate_quick([-8,1,2,-4,6,12,5,-10,16,7,11])"
   ]
  },
  {
   "cell_type": "code",
   "execution_count": 111,
   "id": "9a86db3d",
   "metadata": {},
   "outputs": [
    {
     "data": {
      "text/plain": [
       "[1, -1, 2, -2, 3, -3, 4, -4, -5]"
      ]
     },
     "execution_count": 111,
     "metadata": {},
     "output_type": "execute_result"
    }
   ],
   "source": [
    "separate_quick([1,2,3,4,-1,-2,-3,-4,-5])"
   ]
  },
  {
   "cell_type": "markdown",
   "id": "c3dc1e2b",
   "metadata": {},
   "source": [
    "3."
   ]
  },
  {
   "cell_type": "markdown",
   "id": "ffbf303b",
   "metadata": {},
   "source": [
    "见单独文档"
   ]
  }
 ],
 "metadata": {
  "kernelspec": {
   "display_name": "Python 3",
   "language": "python",
   "name": "python3"
  },
  "language_info": {
   "codemirror_mode": {
    "name": "ipython",
    "version": 3
   },
   "file_extension": ".py",
   "mimetype": "text/x-python",
   "name": "python",
   "nbconvert_exporter": "python",
   "pygments_lexer": "ipython3",
   "version": "3.6.5"
  }
 },
 "nbformat": 4,
 "nbformat_minor": 5
}
