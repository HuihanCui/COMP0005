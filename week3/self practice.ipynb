{
 "cells": [
  {
   "cell_type": "markdown",
   "id": "72c796b6",
   "metadata": {},
   "source": [
    "首先，这周没学quick sort，而是selection sort，所以认为第一题要求的应该是后者"
   ]
  },
  {
   "cell_type": "markdown",
   "id": "71ac0822",
   "metadata": {},
   "source": [
    "1."
   ]
  },
  {
   "cell_type": "markdown",
   "id": "28f05feb",
   "metadata": {},
   "source": [
    "selection sort"
   ]
  },
  {
   "cell_type": "code",
   "execution_count": 9,
   "id": "2562c634",
   "metadata": {},
   "outputs": [],
   "source": [
    "def selection(list):\n",
    "    for i in range(len(list)-1):\n",
    "        min = i\n",
    "        for j in range(i+1, len(list)):\n",
    "            if list[j] < list[min]:\n",
    "                min = j\n",
    "        temp = list[i]\n",
    "        list[i] = list[min]\n",
    "        list[min] = temp\n",
    "        print(list)\n",
    "    return list"
   ]
  },
  {
   "cell_type": "code",
   "execution_count": 11,
   "id": "8522ea47",
   "metadata": {},
   "outputs": [
    {
     "name": "stdout",
     "output_type": "stream",
     "text": [
      "[0, 3, 4, 1, 6, 2, 7, 5]\n",
      "[0, 1, 4, 3, 6, 2, 7, 5]\n",
      "[0, 1, 2, 3, 6, 4, 7, 5]\n",
      "[0, 1, 2, 3, 6, 4, 7, 5]\n",
      "[0, 1, 2, 3, 4, 6, 7, 5]\n",
      "[0, 1, 2, 3, 4, 5, 7, 6]\n",
      "[0, 1, 2, 3, 4, 5, 6, 7]\n"
     ]
    },
    {
     "data": {
      "text/plain": [
       "[0, 1, 2, 3, 4, 5, 6, 7]"
      ]
     },
     "execution_count": 11,
     "metadata": {},
     "output_type": "execute_result"
    }
   ],
   "source": [
    "selection([5,3,4,1,6,2,7,0])"
   ]
  },
  {
   "cell_type": "markdown",
   "id": "d71bee9c",
   "metadata": {},
   "source": [
    "insertion sort"
   ]
  },
  {
   "cell_type": "code",
   "execution_count": 6,
   "id": "6f296f03",
   "metadata": {},
   "outputs": [],
   "source": [
    "def insertion(list):\n",
    "    for i in range(1,len(list)):\n",
    "        for j in range(i,0,-1):\n",
    "            if list[j] < list[j-1]:\n",
    "                temp = list[j]\n",
    "                list[j] = list[j-1]\n",
    "                list[j-1] = temp\n",
    "                print(list)\n",
    "    return list"
   ]
  },
  {
   "cell_type": "code",
   "execution_count": 8,
   "id": "89b92870",
   "metadata": {},
   "outputs": [
    {
     "name": "stdout",
     "output_type": "stream",
     "text": [
      "[3, 5, 4, 1, 6, 2, 7, 0]\n",
      "[3, 4, 5, 1, 6, 2, 7, 0]\n",
      "[3, 4, 1, 5, 6, 2, 7, 0]\n",
      "[3, 1, 4, 5, 6, 2, 7, 0]\n",
      "[1, 3, 4, 5, 6, 2, 7, 0]\n",
      "[1, 3, 4, 5, 2, 6, 7, 0]\n",
      "[1, 3, 4, 2, 5, 6, 7, 0]\n",
      "[1, 3, 2, 4, 5, 6, 7, 0]\n",
      "[1, 2, 3, 4, 5, 6, 7, 0]\n",
      "[1, 2, 3, 4, 5, 6, 0, 7]\n",
      "[1, 2, 3, 4, 5, 0, 6, 7]\n",
      "[1, 2, 3, 4, 0, 5, 6, 7]\n",
      "[1, 2, 3, 0, 4, 5, 6, 7]\n",
      "[1, 2, 0, 3, 4, 5, 6, 7]\n",
      "[1, 0, 2, 3, 4, 5, 6, 7]\n",
      "[0, 1, 2, 3, 4, 5, 6, 7]\n"
     ]
    },
    {
     "data": {
      "text/plain": [
       "[0, 1, 2, 3, 4, 5, 6, 7]"
      ]
     },
     "execution_count": 8,
     "metadata": {},
     "output_type": "execute_result"
    }
   ],
   "source": [
    "insertion([5,3,4,1,6,2,7,0])"
   ]
  },
  {
   "cell_type": "markdown",
   "id": "72b9254f",
   "metadata": {},
   "source": [
    "merge sort"
   ]
  },
  {
   "cell_type": "code",
   "execution_count": 61,
   "id": "2f0999d2",
   "metadata": {},
   "outputs": [],
   "source": [
    "def merge(a, b):\n",
    "    i = 0 \n",
    "    j = 0\n",
    "    result = []\n",
    "    while i < len(a) and j < len(b):\n",
    "        if a[i] < b[j]:\n",
    "            result.append(a[i])\n",
    "            i += 1\n",
    "        else:\n",
    "            result.append(b[j])\n",
    "            j += 1\n",
    "    if i < len(a):\n",
    "        for k in range(i, len(a)):\n",
    "            result.append(a[k])\n",
    "    else:\n",
    "        for k in range(j, len(b)):\n",
    "            result.append(b[k])\n",
    "    return result\n",
    "\n",
    "def mergesort(list):\n",
    "    mid = len(list) // 2\n",
    "    if mid == 0:\n",
    "        return list\n",
    "    return merge(mergesort(list[:mid]), mergesort(list[mid:]))"
   ]
  },
  {
   "cell_type": "code",
   "execution_count": 62,
   "id": "ff8fd482",
   "metadata": {},
   "outputs": [
    {
     "data": {
      "text/plain": [
       "[0, 1, 2, 3, 4, 5, 6, 7, 8]"
      ]
     },
     "execution_count": 62,
     "metadata": {},
     "output_type": "execute_result"
    }
   ],
   "source": [
    "mergesort([5,3,4,1,6,2,7,0,8])"
   ]
  },
  {
   "cell_type": "markdown",
   "id": "96c81b44",
   "metadata": {},
   "source": [
    "quick sort"
   ]
  },
  {
   "cell_type": "code",
   "execution_count": 67,
   "id": "89c66123",
   "metadata": {},
   "outputs": [],
   "source": [
    "def quicksort(arr):\n",
    "    if len(arr) < 2:\n",
    "        return arr\n",
    "    stack = []\n",
    "    stack.append(len(arr)-1)\n",
    "    stack.append(0)\n",
    "    while stack:\n",
    "        l = stack.pop()\n",
    "        r = stack.pop()\n",
    "        index = partition(arr, l, r)\n",
    "        if l < index - 1:\n",
    "            stack.append(index - 1)\n",
    "            stack.append(l)\n",
    "        if r > index + 1:\n",
    "            stack.append(r)\n",
    "            stack.append(index + 1)\n",
    "    return arr\n",
    "            \n",
    "def partition(arr, start, end):\n",
    "    pivot = arr[start]\n",
    "    while start < end:\n",
    "        while start < end and arr[end] >= pivot:\n",
    "            end -= 1\n",
    "        arr[start] = arr[end]\n",
    "        while start < end and arr[start] <= pivot:\n",
    "            start += 1\n",
    "        arr[end] = arr[start]\n",
    "    arr[start] = pivot\n",
    "    return start"
   ]
  },
  {
   "cell_type": "code",
   "execution_count": 68,
   "id": "7b5b89df",
   "metadata": {},
   "outputs": [
    {
     "data": {
      "text/plain": [
       "[0, 1, 2, 3, 4, 5, 6, 7, 8]"
      ]
     },
     "execution_count": 68,
     "metadata": {},
     "output_type": "execute_result"
    }
   ],
   "source": [
    "quicksort([5,3,4,1,6,2,7,0,8])"
   ]
  },
  {
   "cell_type": "markdown",
   "id": "56ee11ca",
   "metadata": {},
   "source": [
    "2."
   ]
  },
  {
   "cell_type": "markdown",
   "id": "c9270bce",
   "metadata": {},
   "source": [
    "bubble sort"
   ]
  },
  {
   "cell_type": "code",
   "execution_count": 72,
   "id": "844f85c0",
   "metadata": {},
   "outputs": [],
   "source": [
    "def bubble(list):\n",
    "    for i in range(len(list) - 1):\n",
    "        for j in range (0, len(list) -1 - i):\n",
    "            if list[j] > list[j+1]:\n",
    "                temp = list[j]\n",
    "                list[j] = list[j+1]\n",
    "                list[j+1] = temp\n",
    "                print(list)\n",
    "    return list"
   ]
  },
  {
   "cell_type": "code",
   "execution_count": 73,
   "id": "ebe5d7d7",
   "metadata": {},
   "outputs": [
    {
     "name": "stdout",
     "output_type": "stream",
     "text": [
      "[3, 5, 4, 1, 6, 2, 7, 0, 8]\n",
      "[3, 4, 5, 1, 6, 2, 7, 0, 8]\n",
      "[3, 4, 1, 5, 6, 2, 7, 0, 8]\n",
      "[3, 4, 1, 5, 2, 6, 7, 0, 8]\n",
      "[3, 4, 1, 5, 2, 6, 0, 7, 8]\n",
      "[3, 1, 4, 5, 2, 6, 0, 7, 8]\n",
      "[3, 1, 4, 2, 5, 6, 0, 7, 8]\n",
      "[3, 1, 4, 2, 5, 0, 6, 7, 8]\n",
      "[1, 3, 4, 2, 5, 0, 6, 7, 8]\n",
      "[1, 3, 2, 4, 5, 0, 6, 7, 8]\n",
      "[1, 3, 2, 4, 0, 5, 6, 7, 8]\n",
      "[1, 2, 3, 4, 0, 5, 6, 7, 8]\n",
      "[1, 2, 3, 0, 4, 5, 6, 7, 8]\n",
      "[1, 2, 0, 3, 4, 5, 6, 7, 8]\n",
      "[1, 0, 2, 3, 4, 5, 6, 7, 8]\n",
      "[0, 1, 2, 3, 4, 5, 6, 7, 8]\n"
     ]
    },
    {
     "data": {
      "text/plain": [
       "[0, 1, 2, 3, 4, 5, 6, 7, 8]"
      ]
     },
     "execution_count": 73,
     "metadata": {},
     "output_type": "execute_result"
    }
   ],
   "source": [
    "bubble([5,3,4,1,6,2,7,0,8])"
   ]
  },
  {
   "cell_type": "markdown",
   "id": "67d8f2d5",
   "metadata": {},
   "source": [
    "bucket sort"
   ]
  },
  {
   "cell_type": "code",
   "execution_count": 80,
   "id": "acd9f355",
   "metadata": {},
   "outputs": [],
   "source": [
    "def bucketsort(arr):\n",
    "    min_num = min(arr)\n",
    "    max_num = max(arr)\n",
    "    bucket_range = (max_num-min_num) / len(arr)\n",
    "    count_list = [ [] for i in range(len(arr) + 1)]\n",
    "    for i in arr:\n",
    "        count_list[int((i-min_num)//bucket_range)].append(i)\n",
    "    arr.clear()\n",
    "    for i in count_list:\n",
    "        print(i)\n",
    "        for j in sorted(i):\n",
    "            arr.append(j)\n",
    "    return arr"
   ]
  },
  {
   "cell_type": "code",
   "execution_count": 83,
   "id": "b78f4e11",
   "metadata": {},
   "outputs": [
    {
     "name": "stdout",
     "output_type": "stream",
     "text": [
      "[15, 17, 22]\n",
      "[]\n",
      "[40, 45]\n",
      "[]\n",
      "[67]\n",
      "[]\n",
      "[86]\n",
      "[]\n",
      "[99]\n"
     ]
    },
    {
     "data": {
      "text/plain": [
       "[15, 17, 22, 40, 45, 67, 86, 99]"
      ]
     },
     "execution_count": 83,
     "metadata": {},
     "output_type": "execute_result"
    }
   ],
   "source": [
    "bucketsort([15,17,22,40,45,67,99,86])"
   ]
  },
  {
   "cell_type": "markdown",
   "id": "52b5a8f2",
   "metadata": {},
   "source": [
    "3."
   ]
  },
  {
   "cell_type": "code",
   "execution_count": null,
   "id": "44c7c428",
   "metadata": {},
   "outputs": [],
   "source": [
    "                     average          best           worst\n",
    "selection            N^2              N^2            N^2\n",
    "insertion            N^2              N              N^2\n",
    "merge                N log N          N log N        N log N\n",
    "quick                N log N          N log N        N^2\n",
    "bubble               N^2              N              N^2   \n",
    "bucket               N                N              N^2  "
   ]
  }
 ],
 "metadata": {
  "kernelspec": {
   "display_name": "Python 3",
   "language": "python",
   "name": "python3"
  },
  "language_info": {
   "codemirror_mode": {
    "name": "ipython",
    "version": 3
   },
   "file_extension": ".py",
   "mimetype": "text/x-python",
   "name": "python",
   "nbconvert_exporter": "python",
   "pygments_lexer": "ipython3",
   "version": "3.6.5"
  }
 },
 "nbformat": 4,
 "nbformat_minor": 5
}
