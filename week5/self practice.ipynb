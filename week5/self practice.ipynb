{
 "cells": [
  {
   "cell_type": "markdown",
   "id": "03578bed",
   "metadata": {},
   "source": [
    "1."
   ]
  },
  {
   "cell_type": "code",
   "execution_count": 15,
   "id": "eed4f63b",
   "metadata": {},
   "outputs": [],
   "source": [
    "class Node():\n",
    "    def __init__(self, key, value):\n",
    "        self.key = key\n",
    "        self.value = value\n",
    "        self.next = None\n",
    "    def add(self, node):\n",
    "        self.next = node\n",
    "        \n",
    "class Linkedlist():\n",
    "    def __init__(self):\n",
    "        self.head = None\n",
    "    def put(self,key, value):\n",
    "        if self.head == None:\n",
    "            self.head = Node(key, value)\n",
    "        else:\n",
    "            current = self.head\n",
    "            previous = None\n",
    "            while current != None:\n",
    "                if current.key == key:\n",
    "                    current.value = value\n",
    "                    return\n",
    "                previous = current\n",
    "                current = current.next\n",
    "            previous.add(Node(key, value))\n",
    "    def get(self,key):\n",
    "        if self.head == None:\n",
    "            return None\n",
    "        current = self.head\n",
    "        while current != None:\n",
    "            if current.key == key:\n",
    "                return current.value\n",
    "            current = current.next\n",
    "        return None"
   ]
  },
  {
   "cell_type": "code",
   "execution_count": 23,
   "id": "20c14e33",
   "metadata": {},
   "outputs": [],
   "source": [
    "def binary(arr, key):\n",
    "    low = 0\n",
    "    high = len(arr) - 1\n",
    "    while low <= high:\n",
    "        mid = (low + high) // 2\n",
    "        if arr[mid] == key:\n",
    "            return mid\n",
    "        if arr[mid] < key:\n",
    "            low = mid + 1\n",
    "        if arr[mid] > key:\n",
    "            high = mid - 1\n",
    "    return None\n",
    "\n",
    "class Orderedarray():\n",
    "    def __init__(self):\n",
    "        self.keys = []\n",
    "        self.values = []\n",
    "    def get(self, key):\n",
    "        index = binary(self.keys, key)\n",
    "        if index != None:\n",
    "            return self.values[index]\n",
    "        return None\n",
    "    def put(self, key, value):\n",
    "        index = binary(self.keys, key)\n",
    "        if index != None:\n",
    "            self.values[index] = value\n",
    "            return\n",
    "        for i in range(len(self.keys)):\n",
    "            if self.keys[i] > key:\n",
    "                self.keys.insert(i, key)\n",
    "                self.values.insert(i, value)\n",
    "                return\n",
    "        self.keys.append(key)\n",
    "        self.values.append(value)"
   ]
  },
  {
   "cell_type": "code",
   "execution_count": 42,
   "id": "eb426897",
   "metadata": {},
   "outputs": [
    {
     "name": "stdout",
     "output_type": "stream",
     "text": [
      "36.995471834372566\n"
     ]
    }
   ],
   "source": [
    "n = 100000\n",
    "c = 10000\n",
    "\n",
    "import timeit, random\n",
    "s1 = timeit.default_timer()\n",
    "\n",
    "ll = Linkedlist()\n",
    "for i in range(n):\n",
    "    ll.put(random.randint(0,c), random.randint(0,c))\n",
    "    ll.get(random.randint(0,c))\n",
    "\n",
    "e1 = timeit.default_timer()\n",
    "t1 = e1 - s1\n",
    "    \n",
    "    \n",
    "s2 = timeit.default_timer()\n",
    "\n",
    "oa = Orderedarray()\n",
    "for i in range(n):\n",
    "    oa.put(random.randint(0,c), random.randint(0,c))\n",
    "    oa.get(random.randint(0,c))\n",
    "\n",
    "e2 = timeit.default_timer()\n",
    "t2 = e2 - s2\n",
    "\n",
    "print(t1 / t2)"
   ]
  },
  {
   "cell_type": "markdown",
   "id": "10750baf",
   "metadata": {},
   "source": [
    "2."
   ]
  },
  {
   "cell_type": "code",
   "execution_count": 59,
   "id": "5d8e2070",
   "metadata": {},
   "outputs": [],
   "source": [
    "class Node2():\n",
    "    def __init__(self, key, value):\n",
    "        self.key = key\n",
    "        self.value = value\n",
    "        self.left = None\n",
    "        self.right = None\n",
    "    \n",
    "    def get(self, key):\n",
    "        if self.key == key:\n",
    "            return self.value\n",
    "        if self.key > key and self.left:\n",
    "            return self.left.get(key)\n",
    "        if self.key < key and self.right:\n",
    "            return self.right.get(key)\n",
    "        return None\n",
    "                \n",
    "    def put(self, key, value):\n",
    "        if self.key == key:\n",
    "            self.value = value\n",
    "        elif self.key > key:\n",
    "            if self.left == None:\n",
    "                self.left = Node2(key, value)\n",
    "            else:\n",
    "                self.left.put(key, value)\n",
    "        else:\n",
    "            if self.right == None:\n",
    "                self.right = Node2(key, value)\n",
    "            else:\n",
    "                self.right.put(key, value)"
   ]
  },
  {
   "cell_type": "code",
   "execution_count": 67,
   "id": "040f7c74",
   "metadata": {},
   "outputs": [],
   "source": [
    "def isBST(node, min, max):\n",
    "    if node == None:\n",
    "        return True\n",
    "    if node.key > min and node.key < max and isBST(node.left, min, node.key) and isBST(node.right, node.key, max):\n",
    "        return True\n",
    "    return False"
   ]
  },
  {
   "cell_type": "code",
   "execution_count": 69,
   "id": "2a21bb70",
   "metadata": {},
   "outputs": [
    {
     "data": {
      "text/plain": [
       "True"
      ]
     },
     "execution_count": 69,
     "metadata": {},
     "output_type": "execute_result"
    }
   ],
   "source": [
    "n = 1000000\n",
    "\n",
    "bst = Node2(7,7)\n",
    "bst.put(5, 5)\n",
    "bst.put(9,9)\n",
    "bst.put(1,1)\n",
    "bst.put(6,6)\n",
    "bst.put(11,11)\n",
    "bst.put(8,8)\n",
    "\n",
    "isBST(bst, -n, n)"
   ]
  },
  {
   "cell_type": "code",
   "execution_count": 70,
   "id": "4558fa92",
   "metadata": {},
   "outputs": [
    {
     "data": {
      "text/plain": [
       "False"
      ]
     },
     "execution_count": 70,
     "metadata": {},
     "output_type": "execute_result"
    }
   ],
   "source": [
    "class Node3():\n",
    "    def __init__(self, key, value):\n",
    "        self.key = key\n",
    "        self.value = value\n",
    "        self.left = None\n",
    "        self.right = None\n",
    "    \n",
    "n = 1000000\n",
    "\n",
    "bt = Node3(3,3)\n",
    "bt.left = Node3(5,5)\n",
    "bt.right = Node3(7,7)\n",
    "bt.left.left = Node3(2,2)\n",
    "bt.left.right = Node3(4,4)\n",
    "bt.right.left = Node3(8,8)\n",
    "bt.right.right = Node3(11,11)\n",
    "\n",
    "isBST(bt, -n, n)"
   ]
  },
  {
   "cell_type": "raw",
   "id": "56d03a12",
   "metadata": {},
   "source": [
    "3."
   ]
  },
  {
   "cell_type": "code",
   "execution_count": 87,
   "id": "5afd6e0c",
   "metadata": {},
   "outputs": [],
   "source": [
    "def intervalSearch(root, minkey, maxkey):\n",
    "    result = []\n",
    "    if root:\n",
    "        if minkey < root.key and root.key < maxkey:\n",
    "            result.append(root.key)\n",
    "        if root.key > minkey:\n",
    "            result += intervalSearch(root.left, minkey, maxkey)\n",
    "        if root.key < maxkey:\n",
    "            result += intervalSearch(root.right, minkey, maxkey)\n",
    "    return result"
   ]
  },
  {
   "cell_type": "code",
   "execution_count": 93,
   "id": "96f277ab",
   "metadata": {},
   "outputs": [
    {
     "data": {
      "text/plain": [
       "[7, 9, 8]"
      ]
     },
     "execution_count": 93,
     "metadata": {},
     "output_type": "execute_result"
    }
   ],
   "source": [
    "intervalSearch(bst, 6,11 )"
   ]
  },
  {
   "cell_type": "code",
   "execution_count": null,
   "id": "b22a0a73",
   "metadata": {},
   "outputs": [],
   "source": []
  }
 ],
 "metadata": {
  "kernelspec": {
   "display_name": "Python 3",
   "language": "python",
   "name": "python3"
  },
  "language_info": {
   "codemirror_mode": {
    "name": "ipython",
    "version": 3
   },
   "file_extension": ".py",
   "mimetype": "text/x-python",
   "name": "python",
   "nbconvert_exporter": "python",
   "pygments_lexer": "ipython3",
   "version": "3.6.5"
  }
 },
 "nbformat": 4,
 "nbformat_minor": 5
}
