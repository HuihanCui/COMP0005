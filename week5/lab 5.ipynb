{
 "cells": [
  {
   "cell_type": "markdown",
   "id": "cb152aae",
   "metadata": {},
   "source": [
    "1."
   ]
  },
  {
   "cell_type": "code",
   "execution_count": 4,
   "id": "f1672091",
   "metadata": {},
   "outputs": [],
   "source": [
    "def linear(arr, key):\n",
    "    c = 0\n",
    "    for i in range(len(arr)):\n",
    "        c += 1\n",
    "        if arr[i] == key:\n",
    "            return i, c\n",
    "    return -1, c"
   ]
  },
  {
   "cell_type": "code",
   "execution_count": 20,
   "id": "8888184b",
   "metadata": {},
   "outputs": [],
   "source": [
    "def binary(arr, key):\n",
    "    c = 0\n",
    "    low = 0\n",
    "    high = len(arr) - 1\n",
    "    while low <= high:\n",
    "        c += 1\n",
    "        mid = (low + high) // 2\n",
    "        if arr[mid] == key:\n",
    "            return mid, c\n",
    "        elif arr[mid] < key:\n",
    "            low = mid + 1\n",
    "        else:\n",
    "            high = mid - 1\n",
    "    return -1, c+1"
   ]
  },
  {
   "cell_type": "code",
   "execution_count": 104,
   "id": "c3695a1a",
   "metadata": {},
   "outputs": [],
   "source": [
    "def trinary(arr, key):\n",
    "    c = 0\n",
    "    low = 0\n",
    "    high = len(arr) - 1\n",
    "    while low <= high:\n",
    "        c += 1\n",
    "        d = (high - low) // 3\n",
    "        m1 = d + low\n",
    "        m2 = d * 2 + low\n",
    "        if arr[m1] == key:\n",
    "            return m1, c\n",
    "        if arr[m2] == key:\n",
    "            return m2, c\n",
    "        if arr[m1] > key:\n",
    "            high = m1 - 1\n",
    "        elif arr[m1] < key and arr[m2] > key:\n",
    "            low = m1 + 1\n",
    "            high = m2 - 1\n",
    "        else:\n",
    "            low = m2 + 1\n",
    "    return -1, c+1"
   ]
  },
  {
   "cell_type": "markdown",
   "id": "ed8e7650",
   "metadata": {},
   "source": [
    "2."
   ]
  },
  {
   "cell_type": "code",
   "execution_count": 183,
   "id": "9c37e7a0",
   "metadata": {},
   "outputs": [
    {
     "data": {
      "text/plain": [
       "(500.5, 0.017125700000178767)"
      ]
     },
     "execution_count": 183,
     "metadata": {},
     "output_type": "execute_result"
    }
   ],
   "source": [
    "n = 1000\n",
    "arr = list(range(1,n+1))\n",
    "\n",
    "import timeit, random\n",
    "\n",
    "s = timeit.default_timer()\n",
    "\n",
    "sum = 0\n",
    "for i in range(1,n+1):\n",
    "    _,c = linear(arr, i)\n",
    "    sum += c\n",
    "average = sum / n\n",
    "\n",
    "e = timeit.default_timer()\n",
    "t = e - s\n",
    "\n",
    "average, t"
   ]
  },
  {
   "cell_type": "code",
   "execution_count": 184,
   "id": "270e3cc4",
   "metadata": {},
   "outputs": [
    {
     "data": {
      "text/plain": [
       "(18.951445, 1.8632347000002483)"
      ]
     },
     "execution_count": 184,
     "metadata": {},
     "output_type": "execute_result"
    }
   ],
   "source": [
    "n = 1000000\n",
    "arr = list(range(1,n+1))\n",
    "\n",
    "s = timeit.default_timer()\n",
    "\n",
    "sum = 0\n",
    "for i in range(1,n+1):\n",
    "    _,c = binary(arr, i)\n",
    "    sum += c\n",
    "average = sum / n\n",
    "\n",
    "e = timeit.default_timer()\n",
    "t = e - s\n",
    "\n",
    "average, t"
   ]
  },
  {
   "cell_type": "code",
   "execution_count": 185,
   "id": "9b221252",
   "metadata": {},
   "outputs": [
    {
     "data": {
      "text/plain": [
       "(12.403238, 2.217316100000062)"
      ]
     },
     "execution_count": 185,
     "metadata": {},
     "output_type": "execute_result"
    }
   ],
   "source": [
    "s = timeit.default_timer()\n",
    "\n",
    "sum = 0\n",
    "for i in range(1,n+1):\n",
    "    _,c = trinary(arr, i)\n",
    "    sum += c\n",
    "average = sum / n\n",
    "\n",
    "e = timeit.default_timer()\n",
    "t = e - s\n",
    "\n",
    "average, t"
   ]
  },
  {
   "cell_type": "markdown",
   "id": "87ef0a36",
   "metadata": {},
   "source": [
    "3."
   ]
  },
  {
   "cell_type": "code",
   "execution_count": 145,
   "id": "02a79986",
   "metadata": {},
   "outputs": [
    {
     "data": {
      "text/plain": [
       "(100.0, 0.0003477000000202679)"
      ]
     },
     "execution_count": 145,
     "metadata": {},
     "output_type": "execute_result"
    }
   ],
   "source": [
    "n = 100\n",
    "arr = list(range(2, 2 * n + 1, 2))\n",
    "\n",
    "import timeit, random\n",
    "\n",
    "s = timeit.default_timer()\n",
    "\n",
    "sum = 0\n",
    "for i in range(1,2 * n, 2):\n",
    "    _,c = linear(arr, i)\n",
    "    sum += c\n",
    "average = sum / n\n",
    "\n",
    "e = timeit.default_timer()\n",
    "t = e - s\n",
    "\n",
    "average, t"
   ]
  },
  {
   "cell_type": "code",
   "execution_count": 180,
   "id": "1f37634a",
   "metadata": {},
   "outputs": [
    {
     "data": {
      "text/plain": [
       "(14.3617, 0.014652599999863014)"
      ]
     },
     "execution_count": 180,
     "metadata": {},
     "output_type": "execute_result"
    }
   ],
   "source": [
    "n = 10000\n",
    "arr = list(range(2, 2 * n + 1, 2))\n",
    "\n",
    "s = timeit.default_timer()\n",
    "\n",
    "sum = 0\n",
    "for i in range(1,2 * n, 2):\n",
    "    _,c = binary(arr, i)\n",
    "    sum += c\n",
    "average = sum / n\n",
    "\n",
    "e = timeit.default_timer()\n",
    "t = e - s\n",
    "\n",
    "average, t"
   ]
  },
  {
   "cell_type": "code",
   "execution_count": 181,
   "id": "00850494",
   "metadata": {},
   "outputs": [
    {
     "data": {
      "text/plain": [
       "(10.0125, 0.01888200000030338)"
      ]
     },
     "execution_count": 181,
     "metadata": {},
     "output_type": "execute_result"
    }
   ],
   "source": [
    "s = timeit.default_timer()\n",
    "\n",
    "sum = 0\n",
    "for i in range(1,2 * n, 2):\n",
    "    _,c = trinary(arr, i)\n",
    "    sum += c\n",
    "average = sum / n\n",
    "\n",
    "e = timeit.default_timer()\n",
    "t = e - s\n",
    "\n",
    "average, t"
   ]
  },
  {
   "cell_type": "markdown",
   "id": "e6a57048",
   "metadata": {},
   "source": [
    "4."
   ]
  },
  {
   "cell_type": "markdown",
   "id": "3b054ef5",
   "metadata": {},
   "source": [
    "Yes"
   ]
  },
  {
   "cell_type": "markdown",
   "id": "f50e04bf",
   "metadata": {},
   "source": [
    "For both values in the array, and values not in the array,\n",
    "trinery search requires fewer function calls,\n",
    "but binary search requires fewer time."
   ]
  },
  {
   "cell_type": "markdown",
   "id": "26915c4d",
   "metadata": {},
   "source": [
    "No, the size do not affect.\n",
    "binary search always takes less time, while trinery search always requires fewer function calls"
   ]
  },
  {
   "cell_type": "code",
   "execution_count": null,
   "id": "e9242326",
   "metadata": {},
   "outputs": [],
   "source": []
  },
  {
   "cell_type": "code",
   "execution_count": null,
   "id": "b58f2ebb",
   "metadata": {},
   "outputs": [],
   "source": []
  }
 ],
 "metadata": {
  "kernelspec": {
   "display_name": "Python 3",
   "language": "python",
   "name": "python3"
  },
  "language_info": {
   "codemirror_mode": {
    "name": "ipython",
    "version": 3
   },
   "file_extension": ".py",
   "mimetype": "text/x-python",
   "name": "python",
   "nbconvert_exporter": "python",
   "pygments_lexer": "ipython3",
   "version": "3.6.5"
  }
 },
 "nbformat": 4,
 "nbformat_minor": 5
}
