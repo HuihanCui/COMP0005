{
 "cells": [
  {
   "cell_type": "markdown",
   "id": "334f0d2e",
   "metadata": {},
   "source": [
    "0."
   ]
  },
  {
   "cell_type": "code",
   "execution_count": 38,
   "id": "473676ff",
   "metadata": {},
   "outputs": [],
   "source": [
    "def prefix(pattern, text):\n",
    "    if len(pattern) > len(text):\n",
    "        return False\n",
    "    for i in range(len(pattern)):\n",
    "        if pattern[i] != text[i]:\n",
    "            return False\n",
    "    return True\n",
    "\n",
    "def find(string, queryWord):\n",
    "    lists = string.split()\n",
    "    for i in range(len(lists)):\n",
    "        if prefix(queryWord, lists[i]):\n",
    "            return i\n",
    "    return -1"
   ]
  },
  {
   "cell_type": "code",
   "execution_count": 39,
   "id": "0aa81300",
   "metadata": {},
   "outputs": [
    {
     "data": {
      "text/plain": [
       "-1"
      ]
     },
     "execution_count": 39,
     "metadata": {},
     "output_type": "execute_result"
    }
   ],
   "source": [
    "find(\"I am testing if this works test\", \"testingg\")"
   ]
  },
  {
   "cell_type": "markdown",
   "id": "45079292",
   "metadata": {},
   "source": [
    "1."
   ]
  },
  {
   "cell_type": "code",
   "execution_count": 16,
   "id": "e04ace51",
   "metadata": {},
   "outputs": [],
   "source": [
    "def merge(a, b):\n",
    "    i = 0 \n",
    "    j = 0\n",
    "    result = []\n",
    "    while i < len(a) and j < len(b):\n",
    "        if a[i] < b[j]:\n",
    "            result.append(a[i])\n",
    "            i += 1\n",
    "        else:\n",
    "            result.append(b[j])\n",
    "            j += 1\n",
    "    if i < len(a):\n",
    "        for k in range(i, len(a)):\n",
    "            result.append(a[k])\n",
    "    else:\n",
    "        for k in range(j, len(b)):\n",
    "            result.append(b[k])\n",
    "    return result\n",
    "\n",
    "def mergesort(list):\n",
    "    mid = len(list) // 2\n",
    "    if mid == 0:\n",
    "        return list\n",
    "    return merge(mergesort(list[:mid]), mergesort(list[mid:]))"
   ]
  },
  {
   "cell_type": "code",
   "execution_count": 17,
   "id": "7fd3b47c",
   "metadata": {},
   "outputs": [],
   "source": [
    "def auto1(data, query):\n",
    "    result = []\n",
    "    for i in data:\n",
    "        if find(i, query) != -1:\n",
    "            result.append(i)\n",
    "    return mergesort(result)"
   ]
  },
  {
   "cell_type": "code",
   "execution_count": 22,
   "id": "5ac1ad21",
   "metadata": {},
   "outputs": [
    {
     "data": {
      "text/plain": [
       "['first, second, third', 'this is the second string']"
      ]
     },
     "execution_count": 22,
     "metadata": {},
     "output_type": "execute_result"
    }
   ],
   "source": [
    "data = [\"this is the first string\",\n",
    "        \"this is the second string\",\n",
    "        \"this is the third string\",\n",
    "       \"first, second, third\"]\n",
    "\n",
    "auto1(data, \"sec\")"
   ]
  },
  {
   "cell_type": "code",
   "execution_count": 48,
   "id": "e264a915",
   "metadata": {},
   "outputs": [],
   "source": [
    "def auto2(data, query):\n",
    "    result = []\n",
    "    for i in data:\n",
    "        if find(i[0], query) != -1:\n",
    "            result.append(i)\n",
    "    result = sorted(result, key=lambda coor: coor[1])\n",
    "    return result[::-1]"
   ]
  },
  {
   "cell_type": "code",
   "execution_count": 49,
   "id": "7e5917f4",
   "metadata": {},
   "outputs": [
    {
     "data": {
      "text/plain": [
       "[('this is the third string', 8),\n",
       " ('this is the first string', 5),\n",
       " ('this is the second string', 2)]"
      ]
     },
     "execution_count": 49,
     "metadata": {},
     "output_type": "execute_result"
    }
   ],
   "source": [
    "data = [(\"this is the first string\", 5),\n",
    "        (\"this is the second string\", 2),\n",
    "        (\"this is the third string\", 8),\n",
    "       (\"first, second, third\",3)]\n",
    "\n",
    "auto2(data, \"str\")"
   ]
  },
  {
   "cell_type": "markdown",
   "id": "a8dd41a3",
   "metadata": {},
   "source": [
    "2."
   ]
  },
  {
   "cell_type": "code",
   "execution_count": 40,
   "id": "400f0256",
   "metadata": {},
   "outputs": [],
   "source": [
    "def noPrefixSet(lists):\n",
    "    for i in range(1, len(lists)):\n",
    "        for j in range(0, i):\n",
    "            if prefix(lists[i], lists[j]) == True or prefix(lists[j], lists[i]) == True:\n",
    "                return lists[i]\n",
    "    return None "
   ]
  },
  {
   "cell_type": "code",
   "execution_count": 41,
   "id": "d68d491e",
   "metadata": {},
   "outputs": [
    {
     "data": {
      "text/plain": [
       "'aabcd'"
      ]
     },
     "execution_count": 41,
     "metadata": {},
     "output_type": "execute_result"
    }
   ],
   "source": [
    "noPrefixSet([\"aab\", \"abcde\", \"aabcd\"])"
   ]
  },
  {
   "cell_type": "code",
   "execution_count": 47,
   "id": "aa9c5a78",
   "metadata": {},
   "outputs": [],
   "source": [
    "noPrefixSet([\"01\",\"10\",\"0010\",\"1111\"])"
   ]
  },
  {
   "cell_type": "code",
   "execution_count": 46,
   "id": "98546ab1",
   "metadata": {},
   "outputs": [
    {
     "data": {
      "text/plain": [
       "'10100'"
      ]
     },
     "execution_count": 46,
     "metadata": {},
     "output_type": "execute_result"
    }
   ],
   "source": [
    "noPrefixSet([\"01\",\"10\",\"0010\",\"10100\"])"
   ]
  }
 ],
 "metadata": {
  "kernelspec": {
   "display_name": "Python 3",
   "language": "python",
   "name": "python3"
  },
  "language_info": {
   "codemirror_mode": {
    "name": "ipython",
    "version": 3
   },
   "file_extension": ".py",
   "mimetype": "text/x-python",
   "name": "python",
   "nbconvert_exporter": "python",
   "pygments_lexer": "ipython3",
   "version": "3.6.5"
  }
 },
 "nbformat": 4,
 "nbformat_minor": 5
}
