{
 "cells": [
  {
   "cell_type": "markdown",
   "id": "e67a313f",
   "metadata": {},
   "source": [
    "1."
   ]
  },
  {
   "cell_type": "markdown",
   "id": "f3cc6cc6",
   "metadata": {},
   "source": [
    "single:"
   ]
  },
  {
   "cell_type": "code",
   "execution_count": 213,
   "id": "0851f507",
   "metadata": {},
   "outputs": [],
   "source": [
    "class Node():\n",
    "    def __init__(self, value):\n",
    "        self.value = value\n",
    "        self.next = None\n",
    "    def add(self, node):\n",
    "        self.next = node\n",
    "\n",
    "class CircularList():\n",
    "    \n",
    "    def __init__(self):\n",
    "        self.head = None\n",
    "        self.length = 0\n",
    "        \n",
    "    def isEmpty(self):\n",
    "        return self.head is None\n",
    "    \n",
    "    def getLength(self):\n",
    "        return self.length\n",
    "    \n",
    "    def append(self, value):\n",
    "        n = Node(value)\n",
    "        if self.head is None:\n",
    "            self.head = n\n",
    "            self.head.add(n)\n",
    "        else:\n",
    "            current = self.head\n",
    "            while current.next != self.head:\n",
    "                current = current.next\n",
    "            current.add(n)\n",
    "        n.add(self.head)\n",
    "        self.length += 1\n",
    "        \n",
    "    def prepend(self, value):\n",
    "        n = Node(value)\n",
    "        if self.head is None:\n",
    "            self.head = n\n",
    "            self.head.add(n)\n",
    "            n.add(self.head)\n",
    "        else:\n",
    "            n.add(self.head)\n",
    "            current = self.head\n",
    "            while current.next != self.head:\n",
    "                current = current.next\n",
    "            current.add(n)\n",
    "            self.head = n\n",
    "        self.length += 1\n",
    "\n",
    "    def delete(self, pos):\n",
    "        if self.head is None:\n",
    "            raise(ValueError(\"Attempt to pop from empty circular list\"))\n",
    "        if self.length == 1:\n",
    "            self.length -= 1\n",
    "            node = self.head\n",
    "            self.head = None\n",
    "            return node\n",
    "        current = self.head\n",
    "        if pos%self.length != 0:\n",
    "            for i in range(pos % self.length -1):\n",
    "                current = current.next\n",
    "            node = current.next\n",
    "            current.add(current.next.next)\n",
    "        else:\n",
    "            node = self.head\n",
    "            while current.next != self.head:\n",
    "                current = current.next\n",
    "            current.add(self.head.next)\n",
    "            self.head = self.head.next\n",
    "        self.length -= 1\n",
    "        return node\n",
    "        \n",
    "    def access(self, pos):\n",
    "        if self.head is None:\n",
    "            raise(ValueError(\"Attempt to access from empty circular list\"))\n",
    "        current = self.head\n",
    "        for i in range(pos % self.length):\n",
    "            current = current.next\n",
    "        return current.value\n",
    "    "
   ]
  },
  {
   "cell_type": "code",
   "execution_count": 220,
   "id": "d28ec889",
   "metadata": {},
   "outputs": [
    {
     "name": "stdout",
     "output_type": "stream",
     "text": [
      "3\n",
      "1\n",
      "2\n"
     ]
    },
    {
     "data": {
      "text/plain": [
       "5"
      ]
     },
     "execution_count": 220,
     "metadata": {},
     "output_type": "execute_result"
    }
   ],
   "source": [
    "cList = CircularList()\n",
    "cList.append(2)\n",
    "cList.prepend(1)\n",
    "cList.append(3)\n",
    "\n",
    "print(cList.delete(2).value)\n",
    "print(cList.delete(0).value)\n",
    "print(cList.delete(1).value)\n",
    "cList.append(3)\n",
    "cList.append(4)\n",
    "cList.append(5)\n",
    "cList.access(2)"
   ]
  },
  {
   "cell_type": "markdown",
   "id": "af1d7077",
   "metadata": {},
   "source": [
    "double:"
   ]
  },
  {
   "cell_type": "code",
   "execution_count": 209,
   "id": "8315a337",
   "metadata": {},
   "outputs": [],
   "source": [
    "class Node2():\n",
    "    def __init__(self, value):\n",
    "        self.value = value\n",
    "        self.next = None\n",
    "        self.previous = None\n",
    "    def add(self, node):\n",
    "        self.next = node\n",
    "        node.previous = self\n",
    "\n",
    "class CircularList2():\n",
    "    \n",
    "    def __init__(self):\n",
    "        self.head = None\n",
    "        self.length = 0\n",
    "        \n",
    "    def isEmpty(self):\n",
    "        return self.head is None\n",
    "    \n",
    "    def getLength(self):\n",
    "        return self.length\n",
    "    \n",
    "    def append(self, value):\n",
    "        n = Node2(value)\n",
    "        if self.head is None:\n",
    "            self.head = n\n",
    "            self.head.add(n)\n",
    "        else:\n",
    "            node = self.head.previous\n",
    "            node.add(n)\n",
    "        n.add(self.head)\n",
    "        self.length += 1\n",
    "\n",
    "    def prepend(self, value):\n",
    "        n = Node2(value)\n",
    "        if self.head is None:\n",
    "            self.head = n\n",
    "            self.head.add(n)\n",
    "            n.add(self.head)\n",
    "        else:\n",
    "            node = self.head.previous\n",
    "            n.add(self.head)\n",
    "            node.add(n)\n",
    "            self.head = n\n",
    "        self.length += 1\n",
    "        \n",
    "    def delete(self, pos):\n",
    "        if self.head is None:\n",
    "            raise(ValueError(\"Attempt to pop from empty circular list\"))\n",
    "        if self.length == 1:\n",
    "            self.length -= 1\n",
    "            node = self.head\n",
    "            self.head = None\n",
    "            return node\n",
    "        current = self.head\n",
    "        if pos%self.length != 0:\n",
    "            for i in range(pos % self.length -1):\n",
    "                current = current.next\n",
    "            node = current.next\n",
    "            current.add(current.next.next)\n",
    "        else:\n",
    "            node = self.head\n",
    "            current = self.head.previous\n",
    "            current.add(self.head.next)\n",
    "            self.head = self.head.next\n",
    "        self.length -= 1\n",
    "        return node\n",
    "        \n",
    "    def access(self, pos):\n",
    "        if self.head is None:\n",
    "            raise(ValueError(\"Attempt to access from empty circular list\"))\n",
    "        current = self.head\n",
    "        for i in range(pos % self.length):\n",
    "            current = current.next\n",
    "        return current.value"
   ]
  },
  {
   "cell_type": "code",
   "execution_count": 221,
   "id": "bf7df3c0",
   "metadata": {},
   "outputs": [
    {
     "name": "stdout",
     "output_type": "stream",
     "text": [
      "2\n",
      "0\n",
      "3\n",
      "1\n",
      "5\n",
      "4\n"
     ]
    },
    {
     "data": {
      "text/plain": [
       "4"
      ]
     },
     "execution_count": 221,
     "metadata": {},
     "output_type": "execute_result"
    }
   ],
   "source": [
    "cList2 = CircularList2()\n",
    "cList2.append(2)\n",
    "cList2.prepend(1)\n",
    "cList2.append(3)\n",
    "cList2.append(4)\n",
    "cList2.prepend(0)\n",
    "cList2.append(5)\n",
    "\n",
    "\n",
    "print(cList2.delete(2).value)\n",
    "print(cList2.delete(0).value)\n",
    "print(cList2.delete(1).value)\n",
    "print(cList2.delete(0).value)\n",
    "print(cList2.delete(1).value)\n",
    "print(cList2.delete(0).value)\n",
    "cList2.append(4)\n",
    "cList2.prepend(0)\n",
    "cList2.append(5)\n",
    "cList2.access(1)"
   ]
  },
  {
   "cell_type": "markdown",
   "id": "24648b68",
   "metadata": {},
   "source": [
    "2."
   ]
  },
  {
   "cell_type": "code",
   "execution_count": 226,
   "id": "98be8e5d",
   "metadata": {},
   "outputs": [],
   "source": [
    "class Node2():\n",
    "    def __init__(self, value):\n",
    "        self.value = value\n",
    "        self.next = None\n",
    "        self.previous = None\n",
    "    def add(self, node):\n",
    "        self.next = node\n",
    "        node.previous = self\n",
    "        \n",
    "class Deque():\n",
    "    \n",
    "    def __init__(self):\n",
    "        self.head = None\n",
    "        self.tail = None\n",
    "        self.length = 0\n",
    "        \n",
    "    def isEmpty(self):\n",
    "        return self.head is None\n",
    "    \n",
    "    def getLength(self):\n",
    "        return self.length\n",
    "    \n",
    "    def addFirst(self, value):\n",
    "        self.length += 1\n",
    "        n = Node2(value)\n",
    "        if self.head is None:\n",
    "            self.head = n\n",
    "            self.tail = n\n",
    "        else:\n",
    "            n.add(self.head)\n",
    "            self.head = n\n",
    "        \n",
    "    def addLast(self, value):\n",
    "        self.length += 1\n",
    "        n = Node2(value)\n",
    "        if self.head is None:\n",
    "            self.head = n\n",
    "            self.tail = n\n",
    "        else:\n",
    "            self.tail.add(n)\n",
    "            self.tail = n\n",
    "    \n",
    "    def removeFirst(self):\n",
    "        if self.head is None:\n",
    "            raise(ValueError(\"Attempt to pop from empty circular list\"))\n",
    "        if self.length == 1:\n",
    "            self.length -= 1\n",
    "            node = self.head\n",
    "            self.head = None\n",
    "            self.tail = None\n",
    "            return node\n",
    "        self.length -= 1\n",
    "        node = self.head\n",
    "        self.head = self.head.next\n",
    "        return node\n",
    "    \n",
    "    def removeLast(self):\n",
    "        if self.head is None:\n",
    "            raise(ValueError(\"Attempt to pop from empty circular list\"))\n",
    "        if self.length == 1:\n",
    "            self.length -= 1\n",
    "            node = self.head\n",
    "            self.head = None\n",
    "            self.tail = None\n",
    "            return node\n",
    "        self.length -= 1\n",
    "        node = self.tail\n",
    "        self.tail = node.previous\n",
    "        return node\n",
    "            "
   ]
  },
  {
   "cell_type": "code",
   "execution_count": 241,
   "id": "c78d7270",
   "metadata": {},
   "outputs": [
    {
     "name": "stdout",
     "output_type": "stream",
     "text": [
      "5\n",
      "0\n",
      "4\n",
      "1\n",
      "3\n",
      "2\n",
      "5\n"
     ]
    },
    {
     "data": {
      "text/plain": [
       "False"
      ]
     },
     "execution_count": 241,
     "metadata": {},
     "output_type": "execute_result"
    }
   ],
   "source": [
    "q = Deque()\n",
    "q.addLast(2)\n",
    "q.addFirst(1)\n",
    "q.addLast(3)\n",
    "q.addLast(4)\n",
    "q.addFirst(0)\n",
    "q.addLast(5)\n",
    "\n",
    "print(q.removeLast().value)\n",
    "print(q.removeFirst().value)\n",
    "print(q.removeLast().value)\n",
    "print(q.removeFirst().value)\n",
    "print(q.removeLast().value)\n",
    "print(q.removeFirst().value)\n",
    "\n",
    "q.addFirst(0)\n",
    "q.addLast(5)\n",
    "\n",
    "\n",
    "print(q.removeLast().value)\n",
    "q.isEmpty()"
   ]
  },
  {
   "cell_type": "markdown",
   "id": "94568ee9",
   "metadata": {},
   "source": [
    "3."
   ]
  },
  {
   "cell_type": "code",
   "execution_count": 248,
   "id": "5ba16ebe",
   "metadata": {},
   "outputs": [],
   "source": [
    "def isPalindrome(str):\n",
    "    if len(str) == 0:\n",
    "        return True\n",
    "    str = str.lower()\n",
    "    return str == str[::-1]"
   ]
  },
  {
   "cell_type": "code",
   "execution_count": 259,
   "id": "f19df195",
   "metadata": {},
   "outputs": [
    {
     "data": {
      "text/plain": [
       "True"
      ]
     },
     "execution_count": 259,
     "metadata": {},
     "output_type": "execute_result"
    }
   ],
   "source": [
    "isPalindrome(\"Awewa\")"
   ]
  },
  {
   "cell_type": "code",
   "execution_count": null,
   "id": "fa1235fa",
   "metadata": {},
   "outputs": [],
   "source": []
  }
 ],
 "metadata": {
  "kernelspec": {
   "display_name": "Python 3",
   "language": "python",
   "name": "python3"
  },
  "language_info": {
   "codemirror_mode": {
    "name": "ipython",
    "version": 3
   },
   "file_extension": ".py",
   "mimetype": "text/x-python",
   "name": "python",
   "nbconvert_exporter": "python",
   "pygments_lexer": "ipython3",
   "version": "3.6.5"
  }
 },
 "nbformat": 4,
 "nbformat_minor": 5
}
