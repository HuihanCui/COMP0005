{
 "cells": [
  {
   "cell_type": "markdown",
   "id": "fbdde1f6",
   "metadata": {},
   "source": [
    "1."
   ]
  },
  {
   "cell_type": "markdown",
   "id": "7a103d03",
   "metadata": {},
   "source": [
    "非递归"
   ]
  },
  {
   "cell_type": "code",
   "execution_count": 5,
   "id": "e43f5d1d",
   "metadata": {},
   "outputs": [],
   "source": [
    "def paths(row, column):\n",
    "    matrix = [[0 for i in range(column)] for j in range (row)]\n",
    "    for i in range(row):\n",
    "        matrix[i][0] = 1\n",
    "    for i in range(column):\n",
    "        matrix[0][i] = 1\n",
    "    for i in range(1,row):\n",
    "        for j in range(1,column):\n",
    "            matrix[i][j] = matrix[i-1][j] + matrix[i][j-1]\n",
    "    return matrix[row-1][column-1]"
   ]
  },
  {
   "cell_type": "markdown",
   "id": "9adbe886",
   "metadata": {},
   "source": [
    "递归"
   ]
  },
  {
   "cell_type": "code",
   "execution_count": 9,
   "id": "5c1fc907",
   "metadata": {},
   "outputs": [],
   "source": [
    "def paths_r(row, column):\n",
    "    if (row == 1) or (column == 1):\n",
    "        return 1\n",
    "    return paths_r(row-1, column) + paths_r(row, column-1)"
   ]
  },
  {
   "cell_type": "markdown",
   "id": "2cf351fd",
   "metadata": {},
   "source": [
    "数学"
   ]
  },
  {
   "cell_type": "code",
   "execution_count": 106,
   "id": "3de7e26c",
   "metadata": {},
   "outputs": [],
   "source": [
    "import math\n",
    "def paths_m(row, column):\n",
    "    n = row + column - 2\n",
    "    r = min(row, column) - 1\n",
    "    return int(math.factorial(n) / math.factorial(r) / math.factorial(n - r))"
   ]
  },
  {
   "cell_type": "code",
   "execution_count": 112,
   "id": "8b0556d0",
   "metadata": {},
   "outputs": [
    {
     "data": {
      "text/plain": [
       "6906900"
      ]
     },
     "execution_count": 112,
     "metadata": {},
     "output_type": "execute_result"
    }
   ],
   "source": [
    "paths(10,20)"
   ]
  },
  {
   "cell_type": "code",
   "execution_count": 108,
   "id": "6db64b14",
   "metadata": {},
   "outputs": [
    {
     "data": {
      "text/plain": [
       "5200300"
      ]
     },
     "execution_count": 108,
     "metadata": {},
     "output_type": "execute_result"
    }
   ],
   "source": [
    "paths_r(13,14)"
   ]
  },
  {
   "cell_type": "code",
   "execution_count": 113,
   "id": "4c7feabd",
   "metadata": {},
   "outputs": [
    {
     "data": {
      "text/plain": [
       "6906900"
      ]
     },
     "execution_count": 113,
     "metadata": {},
     "output_type": "execute_result"
    }
   ],
   "source": [
    "paths_m(10,20)"
   ]
  },
  {
   "cell_type": "markdown",
   "id": "ded4a99d",
   "metadata": {},
   "source": [
    "2."
   ]
  },
  {
   "cell_type": "markdown",
   "id": "ca064b21",
   "metadata": {},
   "source": [
    "非递归"
   ]
  },
  {
   "cell_type": "code",
   "execution_count": 58,
   "id": "2dab8391",
   "metadata": {},
   "outputs": [],
   "source": [
    "def stairs(cost):\n",
    "    steps = [0] * len(cost)\n",
    "    steps[0] = cost[0]\n",
    "    steps[1] = cost[1]\n",
    "    for i in range(2, len(cost)):\n",
    "        steps[i] = min(steps[i-1], steps[i-2]) + cost[i]\n",
    "    return min(steps[-1], steps[-2])"
   ]
  },
  {
   "cell_type": "markdown",
   "id": "bea81635",
   "metadata": {},
   "source": [
    "递归"
   ]
  },
  {
   "cell_type": "code",
   "execution_count": 154,
   "id": "9ca1a8c6",
   "metadata": {},
   "outputs": [],
   "source": [
    "def stairs_r(cost):\n",
    "    if len(cost) == 1:\n",
    "        return 0\n",
    "    if len(cost) == 2:\n",
    "        return min(cost)\n",
    "    return  min(stairs_r(cost[1:])+cost[0], stairs_r(cost[2:])+ cost[1]) "
   ]
  },
  {
   "cell_type": "code",
   "execution_count": 155,
   "id": "a74d03e8",
   "metadata": {},
   "outputs": [
    {
     "data": {
      "text/plain": [
       "6"
      ]
     },
     "execution_count": 155,
     "metadata": {},
     "output_type": "execute_result"
    }
   ],
   "source": [
    "stairs([1, 100, 1, 1, 1, 100, 1, 1, 100, 1])"
   ]
  },
  {
   "cell_type": "code",
   "execution_count": 160,
   "id": "4d09fe63",
   "metadata": {},
   "outputs": [
    {
     "data": {
      "text/plain": [
       "0"
      ]
     },
     "execution_count": 160,
     "metadata": {},
     "output_type": "execute_result"
    }
   ],
   "source": [
    "stairs_r([100])"
   ]
  },
  {
   "cell_type": "markdown",
   "id": "c09d0ea3",
   "metadata": {},
   "source": [
    "3."
   ]
  },
  {
   "cell_type": "code",
   "execution_count": 3,
   "id": "de28fe6a",
   "metadata": {},
   "outputs": [],
   "source": [
    "def bitonic(list, key):\n",
    "    start = 0\n",
    "    end = len(list) - 1    \n",
    "    while (start <= end):\n",
    "        \n",
    "        mid = (start + end) // 2\n",
    "        if list[mid] == key:\n",
    "            return True\n",
    "        \n",
    "        else:\n",
    "            if len(list) == 1:\n",
    "                return False\n",
    "        \n",
    "        \n",
    "        # mid是峰顶，左右binary找\n",
    "        if (list[mid] > list[mid + 1]) and (list[mid] > list[mid - 1]):\n",
    "            \n",
    "            return binary_up(list[:mid], key) or binary_down(list[mid+1:], key)\n",
    "        \n",
    "        # mid在峰顶左边\n",
    "        if list[mid] < list[mid + 1]:\n",
    "            \n",
    "            # mid小于key\n",
    "            if list[mid] < key:\n",
    "                return bitonic(list[mid+1:], key)\n",
    "            # mid大于key\n",
    "            else:\n",
    "                \n",
    "                if binary_up(list[:mid], key):\n",
    "                    return True\n",
    "                else:\n",
    "                    start = mid + 1\n",
    "        \n",
    "        else:\n",
    "            if list[mid] < key:\n",
    "                return bitonic(list[:mid], key)\n",
    "            else:\n",
    "                \n",
    "                if binary_down(list[mid+1:], key):\n",
    "                    return True\n",
    "                else:\n",
    "                    end = mid - 1\n",
    "            \n",
    "    return False"
   ]
  },
  {
   "cell_type": "code",
   "execution_count": 4,
   "id": "5f0c1b35",
   "metadata": {},
   "outputs": [],
   "source": [
    "def binary_up(list, key):\n",
    "    start = 0\n",
    "    end = len(list) - 1\n",
    "    while (start <= end):\n",
    "        mid = (start + end) // 2\n",
    "        if list[mid] < key:\n",
    "            start = mid + 1\n",
    "        elif list[mid] > key:\n",
    "            end = mid - 1\n",
    "        else:\n",
    "            return True\n",
    "    return False\n",
    "\n",
    "def binary_down(list, key):\n",
    "    start = 0\n",
    "    end = len(list) - 1\n",
    "    while (start <= end):\n",
    "        mid = (start + end) // 2\n",
    "        if list[mid] < key:\n",
    "            end = mid - 1\n",
    "        elif list[mid] > key:\n",
    "            start = mid + 1\n",
    "        else:\n",
    "            return True\n",
    "    return False"
   ]
  },
  {
   "cell_type": "code",
   "execution_count": 11,
   "id": "b868605d",
   "metadata": {},
   "outputs": [
    {
     "data": {
      "text/plain": [
       "True"
      ]
     },
     "execution_count": 11,
     "metadata": {},
     "output_type": "execute_result"
    }
   ],
   "source": [
    "bitonic([2,4,6,8,10,12,11,9,7,5,3],11)"
   ]
  },
  {
   "cell_type": "code",
   "execution_count": null,
   "id": "1e2831d9",
   "metadata": {},
   "outputs": [],
   "source": []
  }
 ],
 "metadata": {
  "kernelspec": {
   "display_name": "Python 3",
   "language": "python",
   "name": "python3"
  },
  "language_info": {
   "codemirror_mode": {
    "name": "ipython",
    "version": 3
   },
   "file_extension": ".py",
   "mimetype": "text/x-python",
   "name": "python",
   "nbconvert_exporter": "python",
   "pygments_lexer": "ipython3",
   "version": "3.6.5"
  }
 },
 "nbformat": 4,
 "nbformat_minor": 5
}
