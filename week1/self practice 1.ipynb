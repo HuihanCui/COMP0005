{
 "cells": [
  {
   "cell_type": "markdown",
   "id": "6f36422e",
   "metadata": {},
   "source": [
    "1."
   ]
  },
  {
   "cell_type": "code",
   "execution_count": 3,
   "id": "2f70082c",
   "metadata": {},
   "outputs": [],
   "source": [
    "id = []\n",
    "size =[]\n",
    "for i in range (10):\n",
    "    id.append(i)\n",
    "    size.append(1)"
   ]
  },
  {
   "cell_type": "code",
   "execution_count": 4,
   "id": "33ceb357",
   "metadata": {},
   "outputs": [],
   "source": [
    "def root(i):\n",
    "    while i!=id[i]:\n",
    "        i=id[i]\n",
    "    return i"
   ]
  },
  {
   "cell_type": "code",
   "execution_count": 5,
   "id": "049a0826",
   "metadata": {},
   "outputs": [],
   "source": [
    "def find(u,v):\n",
    "    return root(u)==root(v)"
   ]
  },
  {
   "cell_type": "code",
   "execution_count": 8,
   "id": "00e8efb0",
   "metadata": {},
   "outputs": [],
   "source": [
    "def union(u,v):\n",
    "    r_u=root(u)\n",
    "    r_v=root(v)\n",
    "    if r_u==r_v: return\n",
    "    if size[r_u]<size[r_v]:\n",
    "        id[r_u]=r_v\n",
    "        size[r_v]+=size[r_u]\n",
    "    else:\n",
    "        id[r_v]=r_u\n",
    "        size[r_u]+=size[r_v]"
   ]
  },
  {
   "cell_type": "code",
   "execution_count": 9,
   "id": "3b20c1d7",
   "metadata": {},
   "outputs": [
    {
     "data": {
      "text/plain": [
       "[6, 2, 6, 4, 4, 6, 6, 2, 9, 9]"
      ]
     },
     "execution_count": 9,
     "metadata": {},
     "output_type": "execute_result"
    }
   ],
   "source": [
    "union(4,3)\n",
    "union(6,5)\n",
    "union(2,1)\n",
    "union(7,1)\n",
    "union(9,8)\n",
    "union(5,0)\n",
    "union(6,1)\n",
    "\n",
    "id"
   ]
  },
  {
   "cell_type": "code",
   "execution_count": 10,
   "id": "3658657f",
   "metadata": {},
   "outputs": [
    {
     "data": {
      "text/plain": [
       "[1, 1, 3, 1, 2, 1, 6, 1, 1, 2]"
      ]
     },
     "execution_count": 10,
     "metadata": {},
     "output_type": "execute_result"
    }
   ],
   "source": [
    "size"
   ]
  },
  {
   "cell_type": "code",
   "execution_count": 12,
   "id": "760cd285",
   "metadata": {},
   "outputs": [
    {
     "data": {
      "text/plain": [
       "[6, 2, 6, 4, 4, 6, 6, 2, 9, 6]"
      ]
     },
     "execution_count": 12,
     "metadata": {},
     "output_type": "execute_result"
    }
   ],
   "source": [
    "union(5,8)\n",
    "id"
   ]
  },
  {
   "cell_type": "code",
   "execution_count": 22,
   "id": "6de4ce28",
   "metadata": {},
   "outputs": [
    {
     "data": {
      "text/plain": [
       "True"
      ]
     },
     "execution_count": 22,
     "metadata": {},
     "output_type": "execute_result"
    }
   ],
   "source": [
    "find(1,0)"
   ]
  },
  {
   "cell_type": "markdown",
   "id": "68df3207",
   "metadata": {},
   "source": [
    "2."
   ]
  },
  {
   "cell_type": "code",
   "execution_count": 72,
   "id": "d1301884",
   "metadata": {},
   "outputs": [
    {
     "data": {
      "text/plain": [
       "0.0002168000000892789"
      ]
     },
     "execution_count": 72,
     "metadata": {},
     "output_type": "execute_result"
    }
   ],
   "source": [
    "import time\n",
    "\n",
    "start = time.clock()\n",
    "\n",
    "id = []\n",
    "size =[]\n",
    "for i in range (10):\n",
    "    id.append(i)\n",
    "    size.append(1)\n",
    "    \n",
    "def root(i):\n",
    "    while i!=id[i]:\n",
    "        i=id[i]\n",
    "    return i\n",
    "\n",
    "def find(u,v):\n",
    "    return root(u)==root(v)\n",
    "\n",
    "def union(u,v):\n",
    "    r_u=root(u)\n",
    "    r_v=root(v)\n",
    "    if r_u==r_v: return\n",
    "    if size[r_u]<size[r_v]:\n",
    "        id[r_u]=r_v\n",
    "        size[r_v]+=size[r_u]\n",
    "    else:\n",
    "        id[r_v]=r_u\n",
    "        size[r_u]+=size[r_v]\n",
    "\n",
    "def connected(list):\n",
    "    return max(list) == 10\n",
    "\n",
    "#根据答案，也可以直接从txt文件里读取这样的组合 readline()\n",
    "log = [(0,1),(1,2),(0,1),(1,2),(0,1),(1,2),(0,1),(1,2),(0,1),(1,2),(0,1),(1,2),(2,3),(3,4),(4,5),(5,6),(6,7),(7,8),(8,9),(0,1),(1,2),(2,3),(3,4),(4,5),(5,6),(6,7),(7,8),(8,9),(0,1),(1,2)]\n",
    "\n",
    "for i in log:\n",
    "    union(i[0],i[1])\n",
    "    if connected(size):\n",
    "        break\n",
    "end = time.clock()\n",
    "runtime = end - start\n",
    "\n",
    "runtime"
   ]
  },
  {
   "cell_type": "markdown",
   "id": "05bcc4f1",
   "metadata": {},
   "source": [
    "3."
   ]
  },
  {
   "cell_type": "code",
   "execution_count": 142,
   "id": "6ddcf5ff",
   "metadata": {},
   "outputs": [],
   "source": [
    "id = []\n",
    "size =[]\n",
    "biggest = []\n",
    "for i in range (10):\n",
    "    id.append(i)\n",
    "    size.append(1)\n",
    "    biggest.append(i)\n",
    "    \n",
    "def root(i):\n",
    "    while i!=id[i]:\n",
    "        i=id[i]\n",
    "    return i\n",
    "\n",
    "def connected(u,v):\n",
    "    return root(u)==root(v)\n",
    "\n",
    "def union(u,v):\n",
    "    r_u=root(u)\n",
    "    r_v=root(v)\n",
    "    if r_u==r_v: return\n",
    "    if size[r_u]<size[r_v]:\n",
    "        id[r_u]=r_v\n",
    "        size[r_v]+=size[r_u]\n",
    "    else:\n",
    "        id[r_v]=r_u\n",
    "        size[r_u]+=size[r_v]\n",
    "    if biggest[r_u]<biggest[r_v]:\n",
    "        biggest[r_u]= biggest[r_v]\n",
    "    else:\n",
    "        biggest[r_v]= biggest[r_u]\n",
    "        \n",
    "def find(u):\n",
    "    return biggest[root(u)]"
   ]
  },
  {
   "cell_type": "code",
   "execution_count": 143,
   "id": "a9fe4134",
   "metadata": {},
   "outputs": [
    {
     "name": "stdout",
     "output_type": "stream",
     "text": [
      "7\n",
      "7\n",
      "7\n",
      "9\n",
      "9\n",
      "7\n",
      "7\n",
      "7\n",
      "9\n",
      "9\n"
     ]
    }
   ],
   "source": [
    "union(4,3)\n",
    "union(6,5)\n",
    "union(2,1)\n",
    "union(7,1)\n",
    "union(9,8)\n",
    "union(5,0)\n",
    "union(6,1)\n",
    "union(4,8)\n",
    "\n",
    "\n",
    "for i in range(10):\n",
    "    print(find(i))"
   ]
  },
  {
   "cell_type": "code",
   "execution_count": null,
   "id": "a3eecd33",
   "metadata": {},
   "outputs": [],
   "source": []
  }
 ],
 "metadata": {
  "kernelspec": {
   "display_name": "Python 3",
   "language": "python",
   "name": "python3"
  },
  "language_info": {
   "codemirror_mode": {
    "name": "ipython",
    "version": 3
   },
   "file_extension": ".py",
   "mimetype": "text/x-python",
   "name": "python",
   "nbconvert_exporter": "python",
   "pygments_lexer": "ipython3",
   "version": "3.6.5"
  }
 },
 "nbformat": 4,
 "nbformat_minor": 5
}
