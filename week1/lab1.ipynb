{
 "cells": [
  {
   "cell_type": "markdown",
   "id": "3bc6c4f4",
   "metadata": {},
   "source": [
    "1."
   ]
  },
  {
   "cell_type": "markdown",
   "id": "7773415d",
   "metadata": {},
   "source": [
    "下面这个是加速版本（贪心+普遍）"
   ]
  },
  {
   "cell_type": "code",
   "execution_count": 17,
   "id": "436afb12",
   "metadata": {},
   "outputs": [
    {
     "data": {
      "text/plain": [
       "3"
      ]
     },
     "execution_count": 17,
     "metadata": {},
     "output_type": "execute_result"
    }
   ],
   "source": [
    "def FindMoneyNum(l, num):\n",
    "    count = 0\n",
    "    for i in l:\n",
    "        if num % i == 0:\n",
    "            count += num/i\n",
    "        else:\n",
    "            break\n",
    "            \n",
    "    if count == 0:\n",
    "        while num >= l[0] * l[1]:\n",
    "            num -= l[0]\n",
    "            count += 1\n",
    "\n",
    "        count += coins(num,l)    \n",
    "    return count\n",
    "\n",
    "FindMoneyNum([6,4,1], 9)"
   ]
  },
  {
   "cell_type": "markdown",
   "id": "67c9c6ef",
   "metadata": {},
   "source": [
    "下面这个是普遍版本，都能算，就是有点慢"
   ]
  },
  {
   "cell_type": "code",
   "execution_count": 33,
   "id": "0e4f0542",
   "metadata": {
    "scrolled": true
   },
   "outputs": [
    {
     "name": "stdout",
     "output_type": "stream",
     "text": [
      "3\n"
     ]
    }
   ],
   "source": [
    "cdict = {}\n",
    "def coins(i, coin):\n",
    "    if i == 0:\n",
    "        return 0\n",
    "    if i < 0:\n",
    "        return 1e100\n",
    "    if i in coin:\n",
    "        return 1\n",
    "    if i in cdict:\n",
    "        return cdict[i]\n",
    "    else:\n",
    "        answer = 1 + min([coins(i - cj, coin) for cj in coin])\n",
    "        cdict[i] = answer\n",
    "    return answer\n",
    "Coins = [1, 2, 5,10,20,50]\n",
    "print(coins(8,Coins))"
   ]
  },
  {
   "cell_type": "markdown",
   "id": "d10e6522",
   "metadata": {},
   "source": [
    "2."
   ]
  },
  {
   "cell_type": "markdown",
   "id": "042fe3b7",
   "metadata": {},
   "source": [
    "recursive:   时间复杂度N^2，空间复杂度N"
   ]
  },
  {
   "cell_type": "code",
   "execution_count": 91,
   "id": "4546d333",
   "metadata": {},
   "outputs": [
    {
     "name": "stdout",
     "output_type": "stream",
     "text": [
      "34\n",
      "0.00027709999994840473\n"
     ]
    }
   ],
   "source": [
    "import timeit\n",
    "starttime2 = timeit.default_timer()\n",
    "\n",
    "def fib_r(n):\n",
    "    if n == 1:\n",
    "        return 0\n",
    "    if n == 2:\n",
    "        return 1\n",
    "    return fib_r(n-2) + fib_r(n-1)\n",
    "\n",
    "print(fib_r(10))\n",
    "endtime2 = timeit.default_timer()\n",
    "print(endtime2 - starttime2)"
   ]
  },
  {
   "cell_type": "markdown",
   "id": "9397f0c6",
   "metadata": {},
   "source": [
    "iterative:   复杂度N"
   ]
  },
  {
   "cell_type": "code",
   "execution_count": 96,
   "id": "ec202b9d",
   "metadata": {},
   "outputs": [
    {
     "name": "stdout",
     "output_type": "stream",
     "text": [
      "34\n",
      "0.00010320000001229346\n"
     ]
    }
   ],
   "source": [
    "import timeit\n",
    "starttime2 = timeit.default_timer()\n",
    "\n",
    "def fib_i(n):\n",
    "    result = [0] * n\n",
    "    result[0] = 0\n",
    "    result[1] = 1\n",
    "    for i in range(2,n):\n",
    "        result[i] = result[i-2] + result[i-1]\n",
    "    return result[n-1]\n",
    "\n",
    "print(fib_i(10))\n",
    "endtime2 = timeit.default_timer()\n",
    "print(endtime2 - starttime2)"
   ]
  },
  {
   "cell_type": "markdown",
   "id": "68ab8760",
   "metadata": {},
   "source": [
    "3."
   ]
  },
  {
   "cell_type": "code",
   "execution_count": 71,
   "id": "bd7ea94f",
   "metadata": {},
   "outputs": [
    {
     "data": {
      "text/plain": [
       "False"
      ]
     },
     "execution_count": 71,
     "metadata": {},
     "output_type": "execute_result"
    }
   ],
   "source": [
    "def balanced(str):\n",
    "    brackets = []\n",
    "    for i in str:\n",
    "        if i == \"(\" or i == \"[\" or i == \"{\":\n",
    "            brackets.append(i)\n",
    "        if (i == \")\" or i == \"]\" or i == \"}\") and len(brackets) == 0:\n",
    "            return False\n",
    "        if (i == \")\" and brackets[-1] != \"(\") or (i == \"]\" and brackets[-1] != \"[\") or (i == \"}\" and brackets[-1] != \"{\"):\n",
    "            return False\n",
    "        if i == \")\" or i == \"]\" or i == \"}\":\n",
    "            brackets.pop(-1)\n",
    "    if len(brackets) != 0:\n",
    "        return False\n",
    "    return True\n",
    "\n",
    "balanced(\"(]\")"
   ]
  },
  {
   "cell_type": "code",
   "execution_count": null,
   "id": "61c3917c",
   "metadata": {},
   "outputs": [],
   "source": []
  }
 ],
 "metadata": {
  "kernelspec": {
   "display_name": "Python 3",
   "language": "python",
   "name": "python3"
  },
  "language_info": {
   "codemirror_mode": {
    "name": "ipython",
    "version": 3
   },
   "file_extension": ".py",
   "mimetype": "text/x-python",
   "name": "python",
   "nbconvert_exporter": "python",
   "pygments_lexer": "ipython3",
   "version": "3.6.5"
  }
 },
 "nbformat": 4,
 "nbformat_minor": 5
}
