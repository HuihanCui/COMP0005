{
 "cells": [
  {
   "cell_type": "markdown",
   "id": "a6731186",
   "metadata": {},
   "source": [
    "Run time analysis"
   ]
  },
  {
   "cell_type": "markdown",
   "id": "074fe0a1",
   "metadata": {},
   "source": [
    "1."
   ]
  },
  {
   "cell_type": "code",
   "execution_count": null,
   "id": "401d7519",
   "metadata": {},
   "outputs": [],
   "source": [
    "N\n",
    "log(N)\n",
    "log(N)\n",
    "log(N)    答案：sqrt(n)"
   ]
  },
  {
   "cell_type": "markdown",
   "id": "ca9977ae",
   "metadata": {},
   "source": [
    "2."
   ]
  },
  {
   "cell_type": "code",
   "execution_count": null,
   "id": "2c4ad33e",
   "metadata": {},
   "outputs": [],
   "source": [
    "N\n",
    "N^2"
   ]
  },
  {
   "cell_type": "markdown",
   "id": "3c43af6e",
   "metadata": {},
   "source": [
    "3."
   ]
  },
  {
   "cell_type": "code",
   "execution_count": null,
   "id": "d8a1ac43",
   "metadata": {},
   "outputs": [],
   "source": [
    "N^2\n",
    "N^3\n",
    "N^3    (3个for，没涉及乘法)\n",
    "N log(N)                     答案：N， 外圈是logN次，里圈i次，1+2+4+8+16+...是求和：k从1到logN，每次2^k，套进求和公式，复杂度为N\n",
    "N log(N)"
   ]
  },
  {
   "cell_type": "markdown",
   "id": "77c55f58",
   "metadata": {},
   "source": [
    "4."
   ]
  },
  {
   "cell_type": "code",
   "execution_count": null,
   "id": "37d207b0",
   "metadata": {},
   "outputs": [],
   "source": [
    "N\n",
    "log(N)\n",
    "N^2\n",
    "N log(N)    答案：N，同3.4，答案写的很清楚\n",
    "N^2         答案：2^N，同上"
   ]
  }
 ],
 "metadata": {
  "kernelspec": {
   "display_name": "Python 3",
   "language": "python",
   "name": "python3"
  },
  "language_info": {
   "codemirror_mode": {
    "name": "ipython",
    "version": 3
   },
   "file_extension": ".py",
   "mimetype": "text/x-python",
   "name": "python",
   "nbconvert_exporter": "python",
   "pygments_lexer": "ipython3",
   "version": "3.6.5"
  }
 },
 "nbformat": 4,
 "nbformat_minor": 5
}
