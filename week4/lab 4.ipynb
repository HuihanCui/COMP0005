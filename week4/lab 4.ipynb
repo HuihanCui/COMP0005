{
 "cells": [
  {
   "cell_type": "markdown",
   "id": "7b0bdd83",
   "metadata": {},
   "source": [
    "1."
   ]
  },
  {
   "cell_type": "code",
   "execution_count": 65,
   "id": "ad3aa515",
   "metadata": {},
   "outputs": [],
   "source": [
    "def flip(arr, index):\n",
    "    result = []\n",
    "    for i in range(index,-1,-1):\n",
    "        result.append(arr[i])\n",
    "    return result + arr[index + 1:]\n",
    "\n",
    "def findMax(arr):\n",
    "    m = 0\n",
    "    for i in range(len(arr)):\n",
    "        if arr[i] > m:\n",
    "            m = arr[i]\n",
    "    return m\n",
    "\n",
    "def pancake(arr):\n",
    "    result = []\n",
    "    while True:\n",
    "        # 上升\n",
    "        #print(arr)\n",
    "        if arr[1] > arr[0]:\n",
    "            #不连续上升\n",
    "            if arr[1] - arr[0] != 1:\n",
    "                for j in range(1,len(arr)):\n",
    "                    if arr[j] == arr[0] + 1:\n",
    "                        arr = flip(arr, j)\n",
    "                        result.append(j)\n",
    "            #至少一位连续上升\n",
    "            else:\n",
    "                k = 2\n",
    "                while arr[k] - arr[k-1] == 1:\n",
    "                    k += 1\n",
    "                #不是最大\n",
    "                if arr[k-1] != findMax(arr):\n",
    "                    for j in range(1,len(arr)):\n",
    "                        if arr[j] == arr[k-1] + 1:\n",
    "                            arr = flip(arr, j)\n",
    "                            result.append(j)\n",
    "                else:\n",
    "                    arr = flip(arr, k-1)\n",
    "                    result.append(k-1)\n",
    "        else:\n",
    "            i = 2\n",
    "            while arr[i] < arr[i-1]:\n",
    "                i += 1\n",
    "                if i == len(arr):\n",
    "                    result.append(len(arr)-1)\n",
    "                    return flip(arr, len(arr)-1), result\n",
    "            arr = flip(arr, i-1)\n",
    "            result.append(i-1)"
   ]
  },
  {
   "cell_type": "code",
   "execution_count": 66,
   "id": "99b05466",
   "metadata": {},
   "outputs": [
    {
     "name": "stdout",
     "output_type": "stream",
     "text": [
      "[1, 2, 3, 4]\n",
      "[1, 2, 3]\n"
     ]
    }
   ],
   "source": [
    "arr, result = pancake([3,2,4,1])\n",
    "print(arr)\n",
    "print(result)"
   ]
  },
  {
   "cell_type": "markdown",
   "id": "128c23f7",
   "metadata": {},
   "source": [
    "2."
   ]
  },
  {
   "cell_type": "code",
   "execution_count": 63,
   "id": "17c06567",
   "metadata": {},
   "outputs": [],
   "source": [
    "def merge(a, b):\n",
    "    i = 0 \n",
    "    j = 0\n",
    "    result = []\n",
    "    while i < len(a) and j < len(b):\n",
    "        if a[i] < b[j]:\n",
    "            result.append(a[i])\n",
    "            i += 1\n",
    "        else:\n",
    "            result.append(b[j])\n",
    "            j += 1\n",
    "    if i < len(a):\n",
    "        for k in range(i, len(a)):\n",
    "            result.append(a[k])\n",
    "    else:\n",
    "        for k in range(j, len(b)):\n",
    "            result.append(b[k])\n",
    "    return result\n",
    "\n",
    "def mergesort(list):\n",
    "    mid = len(list) // 2\n",
    "    if mid == 0:\n",
    "        return list\n",
    "    return merge(mergesort(list[:mid]), mergesort(list[mid:]))"
   ]
  },
  {
   "cell_type": "code",
   "execution_count": 73,
   "id": "917d975c",
   "metadata": {},
   "outputs": [
    {
     "name": "stdout",
     "output_type": "stream",
     "text": [
      "[1, 2, 3, 4, 5, 6, 7, 8, 9, 10]\n",
      "[[2, 5], [4, 9]]\n"
     ]
    }
   ],
   "source": [
    "def flip2(arr, start, end):\n",
    "    result = []\n",
    "    for i in range(end,start -1,-1):\n",
    "        result.append(arr[i])\n",
    "    return arr[:start] + result + arr[end + 1:]\n",
    "\n",
    "def findIndex(arr,v):\n",
    "    for i in range(len(arr)):\n",
    "        if arr[i] == v:\n",
    "            return i\n",
    "\n",
    "def ReversalSort(arr):\n",
    "    sortedarr = arr.copy()\n",
    "    sortedarr = mergesort(sortedarr)\n",
    "    flips = []\n",
    "    for i in range(len(arr)):\n",
    "        j = findIndex(arr, sortedarr[i])\n",
    "        if j != i:\n",
    "            arr = flip2(arr, i,j)\n",
    "            flips.append([i+1,j+1])\n",
    "            #print(arr)\n",
    "        if arr == sortedarr:\n",
    "            break  \n",
    "    return arr, flips  \n",
    "\n",
    "arr, result = ReversalSort([1, 8, 9, 3, 2, 7, 6, 5, 4, 10])\n",
    "print(arr)\n",
    "print(result)"
   ]
  },
  {
   "cell_type": "code",
   "execution_count": null,
   "id": "70deaa33",
   "metadata": {},
   "outputs": [],
   "source": []
  },
  {
   "cell_type": "code",
   "execution_count": null,
   "id": "5c99d0dd",
   "metadata": {},
   "outputs": [],
   "source": []
  },
  {
   "cell_type": "code",
   "execution_count": null,
   "id": "3d4992b6",
   "metadata": {},
   "outputs": [],
   "source": []
  }
 ],
 "metadata": {
  "kernelspec": {
   "display_name": "Python 3",
   "language": "python",
   "name": "python3"
  },
  "language_info": {
   "codemirror_mode": {
    "name": "ipython",
    "version": 3
   },
   "file_extension": ".py",
   "mimetype": "text/x-python",
   "name": "python",
   "nbconvert_exporter": "python",
   "pygments_lexer": "ipython3",
   "version": "3.6.5"
  }
 },
 "nbformat": 4,
 "nbformat_minor": 5
}
