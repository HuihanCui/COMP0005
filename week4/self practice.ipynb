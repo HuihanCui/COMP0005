{
 "cells": [
  {
   "cell_type": "markdown",
   "id": "dc4a5649",
   "metadata": {},
   "source": [
    "1."
   ]
  },
  {
   "cell_type": "code",
   "execution_count": 3,
   "id": "d9a40728",
   "metadata": {},
   "outputs": [],
   "source": [
    "def merge(a, b):\n",
    "    i = 0 \n",
    "    j = 0\n",
    "    result = []\n",
    "    while i < len(a) and j < len(b):\n",
    "        if a[i] < b[j]:\n",
    "            result.append(a[i])\n",
    "            i += 1\n",
    "        else:\n",
    "            result.append(b[j])\n",
    "            j += 1\n",
    "    if i < len(a):\n",
    "        for k in range(i, len(a)):\n",
    "            result.append(a[k])\n",
    "    else:\n",
    "        for k in range(j, len(b)):\n",
    "            result.append(b[k])\n",
    "    return result\n",
    "\n",
    "def mergesort(list):\n",
    "    mid = len(list) // 2\n",
    "    if mid == 0:\n",
    "        return list\n",
    "    return merge(mergesort(list[:mid]), mergesort(list[mid:]))\n",
    "\n",
    "def permutation(a, b):\n",
    "    if len(a) != len(b):\n",
    "        return False\n",
    "    a_ord = mergesort(a)\n",
    "    b_ord = mergesort(b)\n",
    "    for i in range(len(a)):\n",
    "        if a_ord[i] != b_ord[i]:\n",
    "            return False\n",
    "    return True        "
   ]
  },
  {
   "cell_type": "code",
   "execution_count": 13,
   "id": "691a4ed6",
   "metadata": {},
   "outputs": [
    {
     "data": {
      "text/plain": [
       "False"
      ]
     },
     "execution_count": 13,
     "metadata": {},
     "output_type": "execute_result"
    }
   ],
   "source": [
    "permutation([1,2,6,3,4,5],[4,6,2,1,5,0])"
   ]
  },
  {
   "cell_type": "markdown",
   "id": "14cdaa19",
   "metadata": {},
   "source": [
    "2."
   ]
  },
  {
   "cell_type": "code",
   "execution_count": 18,
   "id": "1046f2a2",
   "metadata": {},
   "outputs": [],
   "source": [
    "def triple(a, b, c):\n",
    "    result = []\n",
    "    a_ord = mergesort(a)\n",
    "    b_ord = mergesort(b)\n",
    "    c_ord = mergesort(c)\n",
    "    i = 0\n",
    "    j = 0\n",
    "    k = 0\n",
    "    while i < len(a_ord) and j < len(b_ord) and k < len(c_ord):\n",
    "        if a_ord[i] == b_ord[j] == c_ord[k]:\n",
    "            result.append(a_ord[i])\n",
    "            i += 1\n",
    "            j += 1\n",
    "            k += 1\n",
    "        elif a_ord[i] < b_ord[j]:\n",
    "            i += 1\n",
    "        elif b_ord[j] < c_ord[k]:\n",
    "            j += 1\n",
    "        else:\n",
    "            k += 1\n",
    "    return result"
   ]
  },
  {
   "cell_type": "code",
   "execution_count": 26,
   "id": "47821503",
   "metadata": {},
   "outputs": [
    {
     "data": {
      "text/plain": [
       "['I', 'Lanice']"
      ]
     },
     "execution_count": 26,
     "metadata": {},
     "output_type": "execute_result"
    }
   ],
   "source": [
    "a = [\"Hi\",\"my\",\"name\",\"is\",\"Lanice\",\"I\"]\n",
    "b = [\"Hello\",\"I\",\"love\",\"Lanice\",\"Zhasnow\",\"Hi\"]\n",
    "c = [ \"I\",\"am\",\"a\",\"sister\",\"of\",\"Lanice\"]\n",
    "triple(a,b,c)"
   ]
  },
  {
   "cell_type": "markdown",
   "id": "d14823b4",
   "metadata": {},
   "source": [
    "3."
   ]
  },
  {
   "cell_type": "code",
   "execution_count": 27,
   "id": "d9c1049b",
   "metadata": {},
   "outputs": [],
   "source": [
    "def commonPoints(a, b):\n",
    "    count = 0\n",
    "    a_ord = mergesort(a)\n",
    "    b_ord = mergesort(b)\n",
    "    i = 0\n",
    "    j = 0\n",
    "    while i < len(a_ord) and j < len(b_ord):\n",
    "        if a_ord[i] == b_ord[j]:\n",
    "            count += 1\n",
    "            i += 1\n",
    "            j += 1\n",
    "        elif a_ord[i] < b_ord[j]:\n",
    "            i += 1\n",
    "        else:\n",
    "            j += 1\n",
    "    return count"
   ]
  },
  {
   "cell_type": "code",
   "execution_count": 31,
   "id": "6b978cb6",
   "metadata": {},
   "outputs": [
    {
     "data": {
      "text/plain": [
       "3"
      ]
     },
     "execution_count": 31,
     "metadata": {},
     "output_type": "execute_result"
    }
   ],
   "source": [
    "a = [(1,1), (5,2),(3,7),(8,2), (4,6)]\n",
    "b = [(0,4), (4,6),(3,7), (5,3), (5,2)]\n",
    "commonPoints(a,b)"
   ]
  },
  {
   "cell_type": "markdown",
   "id": "548f9e9d",
   "metadata": {},
   "source": [
    "4."
   ]
  },
  {
   "cell_type": "code",
   "execution_count": 45,
   "id": "594fb92e",
   "metadata": {},
   "outputs": [],
   "source": [
    "def idle(jobs):\n",
    "    leisure_max = 0\n",
    "    works_max = 0\n",
    "    jobs = mergesort(jobs)\n",
    "    while len(jobs) > 1:\n",
    "        if jobs[1][0] <= jobs[0][1]:\n",
    "            if jobs[1][1] >= jobs[0][1]:\n",
    "                new = (jobs[0][0], jobs[1][1])\n",
    "                jobs.pop(0)\n",
    "                jobs.pop(0)\n",
    "                jobs.insert(0,new)\n",
    "            else:\n",
    "                jobs.pop(1)\n",
    "        else:\n",
    "            if (jobs[1][0] - jobs[0][1]) > leisure_max:\n",
    "                leisure_max = jobs[1][0] - jobs[0][1]\n",
    "            if (jobs[0][1] - jobs[0][0]) > works_max:\n",
    "                works_max = jobs[0][1] - jobs[0][0]\n",
    "            jobs.pop(0)\n",
    "    if (jobs[0][1] - jobs[0][0]) > works_max:\n",
    "        works_max = jobs[0][1] - jobs[0][0]\n",
    "    return leisure_max, works_max"
   ]
  },
  {
   "cell_type": "code",
   "execution_count": 50,
   "id": "97613bbf",
   "metadata": {},
   "outputs": [
    {
     "data": {
      "text/plain": [
       "(3, 5)"
      ]
     },
     "execution_count": 50,
     "metadata": {},
     "output_type": "execute_result"
    }
   ],
   "source": [
    "jobs = [(8, 10), (8, 11), (9, 13),(1, 5), (3, 4)]\n",
    "idle(jobs)"
   ]
  },
  {
   "cell_type": "code",
   "execution_count": null,
   "id": "8728d21f",
   "metadata": {},
   "outputs": [],
   "source": []
  }
 ],
 "metadata": {
  "kernelspec": {
   "display_name": "Python 3",
   "language": "python",
   "name": "python3"
  },
  "language_info": {
   "codemirror_mode": {
    "name": "ipython",
    "version": 3
   },
   "file_extension": ".py",
   "mimetype": "text/x-python",
   "name": "python",
   "nbconvert_exporter": "python",
   "pygments_lexer": "ipython3",
   "version": "3.6.5"
  }
 },
 "nbformat": 4,
 "nbformat_minor": 5
}
