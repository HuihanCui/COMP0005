{
 "cells": [
  {
   "cell_type": "markdown",
   "id": "28f30708",
   "metadata": {},
   "source": [
    "1."
   ]
  },
  {
   "cell_type": "code",
   "execution_count": 93,
   "id": "825a6df3",
   "metadata": {},
   "outputs": [],
   "source": [
    "class Graph:\n",
    "    def __init__(self, V):\n",
    "        self.V = V\n",
    "        self.adj = []\n",
    "        for _ in range (0,V):\n",
    "            self.adj.append([])\n",
    "            \n",
    "    def addEdge(self, v, w):\n",
    "        self.adj[v].append(w)\n",
    "        self.adj[w].append(v)\n",
    "        \n",
    "    def adjacent (self, v):\n",
    "        return self.adj[v]\n",
    "    \n",
    "class ConnectedComponents:\n",
    "    def __init__(self, G):\n",
    "        self.marked = [False for v in range (0, G.V)]\n",
    "        self.cc = [-1 for v in range (0, G.V)]\n",
    "        self.count = 0;\n",
    "        for v in range (0, G.V):\n",
    "            if not self.marked[v]:\n",
    "                self.dfs(G, v)\n",
    "                self.count += 1\n",
    "            \n",
    "    def dfs(self, G, v):\n",
    "        self.marked[v] = True\n",
    "        self.cc[v] = self.count\n",
    "        for w in G.adjacent(v):\n",
    "            if not self.marked[w]:\n",
    "                self.dfs(G, w)\n",
    "                \n",
    "    def countCC(self):\n",
    "        return self.count\n",
    "    \n",
    "    def ccId(self, v):\n",
    "        return self.cc[v]\n",
    "    \n",
    "    def sameCC(self, v, w):\n",
    "        return (self.cc[v]==self.cc[w])\n",
    "    \n",
    "def bridge(G):    \n",
    "    count = ConnectedComponents(G).countCC()\n",
    "    edges = []\n",
    "    for i in range(G.V):\n",
    "        for j in G.adj[i]:\n",
    "            if (i,j) not in edges and (j,i) not in edges:\n",
    "                edges.append((i,j))\n",
    "    result = []\n",
    "    for edge in edges:\n",
    "        G.adj[edge[0]].remove(edge[1])\n",
    "        G.adj[edge[1]].remove(edge[0])\n",
    "        new_count = ConnectedComponents(G).countCC()\n",
    "        if new_count > count:\n",
    "            result.append(edge)\n",
    "        G.addEdge(edge[0], edge[1])\n",
    "        new_count = 0\n",
    "    return result"
   ]
  },
  {
   "cell_type": "code",
   "execution_count": 95,
   "id": "081973ef",
   "metadata": {},
   "outputs": [
    {
     "data": {
      "text/plain": [
       "[(0, 1), (0, 2), (4, 7), (7, 8)]"
      ]
     },
     "execution_count": 95,
     "metadata": {},
     "output_type": "execute_result"
    }
   ],
   "source": [
    "g = Graph(9)\n",
    "g.addEdge(0,1)\n",
    "g.addEdge(0,2)\n",
    "g.addEdge(0,5)\n",
    "g.addEdge(0,6)\n",
    "g.addEdge(5,3)\n",
    "g.addEdge(3,4)\n",
    "g.addEdge(4,6)\n",
    "\n",
    "g.addEdge(4,7)\n",
    "g.addEdge(7,8)\n",
    "\n",
    "bridge(g)"
   ]
  },
  {
   "cell_type": "markdown",
   "id": "8e1cb059",
   "metadata": {},
   "source": [
    "复杂度我猜 E(V+E)   edge数，顶点数"
   ]
  },
  {
   "cell_type": "code",
   "execution_count": 99,
   "id": "ea8afa02",
   "metadata": {},
   "outputs": [
    {
     "data": {
      "text/plain": [
       "[(0, 1), (1, 2), (2, 3)]"
      ]
     },
     "execution_count": 99,
     "metadata": {},
     "output_type": "execute_result"
    }
   ],
   "source": [
    "graph = Graph(5) \n",
    "graph.addEdge(0, 1) \n",
    "graph.addEdge(1, 2) \n",
    "graph.addEdge(2, 3) \n",
    "bridge(graph)"
   ]
  },
  {
   "cell_type": "code",
   "execution_count": null,
   "id": "1b91d0f1",
   "metadata": {},
   "outputs": [],
   "source": []
  }
 ],
 "metadata": {
  "kernelspec": {
   "display_name": "Python 3",
   "language": "python",
   "name": "python3"
  },
  "language_info": {
   "codemirror_mode": {
    "name": "ipython",
    "version": 3
   },
   "file_extension": ".py",
   "mimetype": "text/x-python",
   "name": "python",
   "nbconvert_exporter": "python",
   "pygments_lexer": "ipython3",
   "version": "3.6.5"
  }
 },
 "nbformat": 4,
 "nbformat_minor": 5
}
