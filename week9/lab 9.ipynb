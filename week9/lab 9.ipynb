{
 "cells": [
  {
   "cell_type": "markdown",
   "id": "587a36b6",
   "metadata": {},
   "source": [
    "1."
   ]
  },
  {
   "cell_type": "code",
   "execution_count": 7,
   "id": "77604696",
   "metadata": {},
   "outputs": [],
   "source": [
    "def distanceWithoutRepeating(s):\n",
    "    length = 0\n",
    "    dict = {}\n",
    "    for i in range(len(s)):\n",
    "        if s[i] in dict.keys():\n",
    "            return length\n",
    "        dict[s[i]] = 0\n",
    "        length += 1\n",
    "    return length\n",
    "\n",
    "def longest(s):\n",
    "    length = 0\n",
    "    index = 0\n",
    "    for i in range(len(s)):\n",
    "        current = distanceWithoutRepeating(s[i:])\n",
    "        if current > length:\n",
    "            length = current\n",
    "            index = i\n",
    "    return length, s[index:index+length]"
   ]
  },
  {
   "cell_type": "code",
   "execution_count": 10,
   "id": "8f377cfa",
   "metadata": {},
   "outputs": [
    {
     "data": {
      "text/plain": [
       "(6, 'BCADFE')"
      ]
     },
     "execution_count": 10,
     "metadata": {},
     "output_type": "execute_result"
    }
   ],
   "source": [
    "longest(\"ABCADFECAB\")"
   ]
  },
  {
   "cell_type": "markdown",
   "id": "2298e591",
   "metadata": {},
   "source": [
    "2."
   ]
  },
  {
   "cell_type": "code",
   "execution_count": 38,
   "id": "f2e9b553",
   "metadata": {},
   "outputs": [
    {
     "data": {
      "text/plain": [
       "3"
      ]
     },
     "execution_count": 38,
     "metadata": {},
     "output_type": "execute_result"
    }
   ],
   "source": [
    "def editDistance(str1, str2):\n",
    "    if len(str1) == 0:\n",
    "        return len(str2)\n",
    "    elif len(str2) == 0:\n",
    "        return len(str1)\n",
    "    elif str1 == str2:\n",
    "        return 0\n",
    "    if str1[len(str1)-1] == str2[len(str2)-1]:\n",
    "        d = 0\n",
    "    else:\n",
    "        d = 1\n",
    "    return min(editDistance(str1, str2[:-1]) + 1,\n",
    "                editDistance(str1[:-1], str2) + 1,\n",
    "                editDistance(str1[:-1], str2[:-1]) + d)\n",
    "editDistance(\"AGCTAGCT\",\"GCTAGCAA\")"
   ]
  },
  {
   "cell_type": "markdown",
   "id": "367783e8",
   "metadata": {},
   "source": [
    "3."
   ]
  },
  {
   "cell_type": "code",
   "execution_count": 39,
   "id": "d865815a",
   "metadata": {},
   "outputs": [
    {
     "data": {
      "text/plain": [
       "8"
      ]
     },
     "execution_count": 39,
     "metadata": {},
     "output_type": "execute_result"
    }
   ],
   "source": [
    "def editDistance_V(str1, str2):\n",
    "    if len(str1) == 0:\n",
    "        return len(str2)*5\n",
    "    elif len(str2) == 0:\n",
    "        return len(str1)*5\n",
    "    elif str1 == str2:\n",
    "        return 0\n",
    "    if str1[len(str1)-1] == str2[len(str2)-1]:\n",
    "        d = 0\n",
    "    else:\n",
    "        d = 1\n",
    "    return min(editDistance_V(str1, str2[:-1]) + 5,\n",
    "                editDistance_V(str1[:-1], str2) + 5,\n",
    "                editDistance_V(str1[:-1], str2[:-1]) + d)\n",
    "editDistance_V(\"AGCTAGCT\",\"GCTAGCTA\")"
   ]
  },
  {
   "cell_type": "code",
   "execution_count": null,
   "id": "a122e2a8",
   "metadata": {},
   "outputs": [],
   "source": []
  }
 ],
 "metadata": {
  "kernelspec": {
   "display_name": "Python 3",
   "language": "python",
   "name": "python3"
  },
  "language_info": {
   "codemirror_mode": {
    "name": "ipython",
    "version": 3
   },
   "file_extension": ".py",
   "mimetype": "text/x-python",
   "name": "python",
   "nbconvert_exporter": "python",
   "pygments_lexer": "ipython3",
   "version": "3.6.5"
  }
 },
 "nbformat": 4,
 "nbformat_minor": 5
}
