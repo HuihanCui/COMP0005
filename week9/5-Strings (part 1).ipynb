{
 "cells": [
  {
   "cell_type": "markdown",
   "metadata": {},
   "source": [
    "# String Algorithms "
   ]
  },
  {
   "cell_type": "markdown",
   "metadata": {},
   "source": [
    "## Exercise – Longest common prefix\n",
    "There are various algorithms we can design and implement to tackle the longest common prefix problem, each with different computational complexity. "
   ]
  },
  {
   "cell_type": "markdown",
   "metadata": {},
   "source": [
    "### LCP via string by string comparison\n",
    "Perhaps the simplest / most intuitive one is to compare the first 2 strings in the set, find their LCP, then continue by computing the LCP between the next string in input and the curent LCP. Finally return the latest LCP computed. Computational cost: O(M\\*N), with N being the umber of strings and M being the length of the longest one."
   ]
  },
  {
   "cell_type": "code",
   "execution_count": 1,
   "metadata": {},
   "outputs": [],
   "source": [
    "#pairwise LCP computation\n",
    "def pairwiseLCP(str1, str2): \n",
    "\n",
    "    lcp = \"\"; \n",
    "    n = min(len(str1), len(str2)) \n",
    "\n",
    "    # compare str1 and str2 \n",
    "    i = 0\n",
    "    while i < n:\n",
    "        if (str1[i] != str2[i]): \n",
    "            break\n",
    "        lcp = lcp + str1[i] \n",
    "        i = i + 1\n",
    "        \n",
    "    return lcp \n",
    "\n",
    "# LCP computation over a list of strings\n",
    "def lcpCompare (listOfStrings): \n",
    "    \n",
    "    n = len(listOfStrings)\n",
    "    lcp = listOfStrings[0] \n",
    "\n",
    "    for i in range (1, n): \n",
    "        lcp = pairwiseLCP(lcp, listOfStrings[i]) \n",
    "        if lcp ==\"\":\n",
    "            break\n",
    "\n",
    "    return lcp "
   ]
  },
  {
   "cell_type": "code",
   "execution_count": 2,
   "metadata": {},
   "outputs": [
    {
     "name": "stdout",
     "output_type": "stream",
     "text": [
      "longest common prefix: app\n"
     ]
    }
   ],
   "source": [
    "# test code \n",
    "testset = [\"apple\", \"appointment\", \"appendix\", \"appeal\", \"apparel\"]\n",
    "\n",
    "lcptest = lcpCompare(testset)\n",
    "\n",
    "if (len(lcptest)): \n",
    "    print (\"longest common prefix:\", lcptest) \n",
    "else: \n",
    "    print(\"no common prefix\") \n"
   ]
  },
  {
   "cell_type": "markdown",
   "metadata": {},
   "source": [
    "### LCP using a Trie\n",
    "To reduce the computational cost of finding the LCP, we make use of the trie data structure. We first add all strings to the trie. For as long as the input strings share a common prefix, each node in the trie will have exactly one child. When at least one of the strings in input starts to differ, the trie will branch out to more than 1 child. A simple trie traversal from the root will then enable us to compute the LCP."
   ]
  },
  {
   "cell_type": "code",
   "execution_count": 3,
   "metadata": {},
   "outputs": [],
   "source": [
    "# for simplicity, we assume to have an alphabet made of lower case letters only\n",
    "ALPHABET = 26\n",
    "\n",
    "class TrieNode: \n",
    "    def __init__(self): \n",
    "        self.isLeaf = False\n",
    "        self.children = [None]*ALPHABET\n",
    "\n",
    "def insert(key, root): \n",
    "    x = root \n",
    "    for level in range(len(key)): \n",
    "        index = ord(key[level]) - ord('a') \n",
    "        if x.children[index] == None: \n",
    "            x.children[index] = TrieNode() \n",
    "        x = x.children[index] \n",
    "    x.isLeaf = True\n",
    "\n",
    "    \n",
    "def buildTrie(listOfStrings, root): \n",
    "    for i in range(len(listOfStrings)): \n",
    "        insert(listOfStrings[i], root) \n",
    "\n",
    "def countChildren(node): \n",
    "    count = 0\n",
    "    charindex = -1\n",
    "    for i in range(ALPHABET): \n",
    "        if node.children[i] != None: \n",
    "            count = count + 1\n",
    "            charindex = i \n",
    "    return count,  charindex\n",
    "\n",
    "def walkTrie(root): \n",
    "    x = root \n",
    "    lcp = \"\"\n",
    "    count, index = countChildren(x)\n",
    "    while (count == 1 and x.isLeaf == False): \n",
    "        x = x.children[index] \n",
    "        lcp = lcp + chr(97 + index) \n",
    "        count, index = countChildren(x)\n",
    "    return lcp \n",
    "\n",
    "def lcpTrie(listOfStrings, root): \n",
    "    buildTrie(listOfStrings, root) \n",
    "    return walkTrie(root) "
   ]
  },
  {
   "cell_type": "code",
   "execution_count": 4,
   "metadata": {},
   "outputs": [
    {
     "name": "stdout",
     "output_type": "stream",
     "text": [
      "longest common prefix: app\n"
     ]
    }
   ],
   "source": [
    "# test code \n",
    "testset = [\"apple\", \"appointment\", \"appendix\", \"appeal\",  \"apparel\"]\n",
    "root = TrieNode() \n",
    "lcptest = lcpTrie(testset, root)\n",
    "\n",
    "if (len(lcptest)): \n",
    "    print (\"longest common prefix:\", lcptest) \n",
    "else: \n",
    "    print(\"no common prefix\") "
   ]
  },
  {
   "cell_type": "markdown",
   "metadata": {},
   "source": [
    "Note that the computational complexity of the above is still O(M\\*N), since the trie construction takes O(M\\*N). However, once built, subsequent LCP queries would only take O(M)."
   ]
  },
  {
   "cell_type": "markdown",
   "metadata": {},
   "source": [
    "## Exercise – Pattern search \n",
    "We begin by implementeing a simple, brute-force algorithm to find an occurrence of a given pattern P in text T (computational cost O(M\\*N) in the wosrt case scenario). We then look at an implementation of the Knuth-Morris-Pratt (KMP) algorithm covered during lectures. We  experimentally compare the performance of the two algorithms on two inputs: a real English text, and a synthetic string of same length containoing the same repeated character A."
   ]
  },
  {
   "cell_type": "markdown",
   "metadata": {},
   "source": [
    "### Brute force"
   ]
  },
  {
   "cell_type": "code",
   "execution_count": 5,
   "metadata": {},
   "outputs": [],
   "source": [
    "def BruteForcsePatternSearch(pattern, txt): \n",
    "    M = len(pattern) \n",
    "    N = len(txt) \n",
    "    indices = []\n",
    "\n",
    "    for i in range(N-M + 1): \n",
    "        j = 0\n",
    "        while(j < M): \n",
    "            if (txt[i + j] != pattern[j]): \n",
    "                break\n",
    "            j = j + 1\n",
    "\n",
    "        if (j == M):\n",
    "            indices.append(i)\n",
    "\n",
    "    return indices"
   ]
  },
  {
   "cell_type": "markdown",
   "metadata": {},
   "source": [
    "### KMP"
   ]
  },
  {
   "cell_type": "code",
   "execution_count": 6,
   "metadata": {},
   "outputs": [],
   "source": [
    "#credit: https://www.geeksforgeeks.org/kmp-algorithm-for-pattern-searching/\n",
    "\n",
    "def KMPPatternSearch(pattern, txt): \n",
    "    M = len(pattern) \n",
    "    N = len(txt) \n",
    "\n",
    "    indices = []\n",
    "\n",
    "    # lps[] will hold the longest prefix suffix values for pattern \n",
    "    lps = [0]*M \n",
    "    j = 0\n",
    "    \n",
    "    # preprocess the pattern and calculate lps[] \n",
    "    computeLPS(pattern, M, lps) \n",
    "\n",
    "    i = 0\n",
    "    while i < N: \n",
    "        if pattern[j] == txt[i]:\n",
    "            i = i+1\n",
    "            j = j+1\n",
    "\n",
    "        if j == M: \n",
    "            indices.append(i-j)\n",
    "            j = lps[j-1]  \n",
    "        elif i < N and pattern[j] != txt[i]: \n",
    "            if j != 0: \n",
    "                j = lps[j-1] \n",
    "            else:\n",
    "                i = i+1\n",
    "    return indices\n",
    "                \n",
    "                \n",
    "def computeLPS(pattern, M, lps): \n",
    "    lenp = 0    \n",
    "    lps[0]\n",
    "    i = 1\n",
    "\n",
    "    while i < M: \n",
    "        if pattern[i]== pattern[lenp]: \n",
    "            lenp = lenp+1\n",
    "            lps[i] = lenp\n",
    "            i = i+1            \n",
    "        else: \n",
    "            if lenp != 0: \n",
    "                lenp = lps[lenp-1] \n",
    "            else: \n",
    "                lps[i] = 0\n",
    "                i = i+1\n",
    "\n",
    "\n"
   ]
  },
  {
   "cell_type": "code",
   "execution_count": null,
   "metadata": {},
   "outputs": [],
   "source": [
    "import timeit\n",
    "\n",
    "# driver code\n",
    "with open('5-mobydick.txt','r') as f:\n",
    "    txt1 = f.read().rstrip(\"\\n\")\n",
    "pattern1a = \"and\"    \n",
    "pattern1b = \"every kingdom\"    \n",
    "\n",
    "txt2 = \"A\" * len(txt1) + \"B\"\n",
    "pattern2a = \"A\" * 100\n",
    "pattern2b = \"AAAAB\"    \n",
    "\n",
    "print(\"Brute force on Moby Dick...\")\n",
    "starttime = timeit.default_timer()\n",
    "BruteForcsePatternSearch(pattern1a, txt1)\n",
    "endtime = timeit.default_timer()\n",
    "print(\"with pattern \\\"and\\\" \", round(endtime-starttime,3))\n",
    "starttime = timeit.default_timer()\n",
    "BruteForcsePatternSearch(pattern1b, txt1)\n",
    "endtime = timeit.default_timer()\n",
    "print(\"with pattern \\\"every kingdom\\\" \", round(endtime-starttime,3))\n",
    "\n",
    "print(\"Brute force on A* text...\")\n",
    "starttime = timeit.default_timer()\n",
    "BruteForcsePatternSearch(pattern2a, txt2)\n",
    "endtime = timeit.default_timer()\n",
    "print(\"with pattern A*\", round(endtime-starttime,3))\n",
    "starttime = timeit.default_timer()\n",
    "BruteForcsePatternSearch(pattern2b, txt2)\n",
    "endtime = timeit.default_timer()\n",
    "print(\"with pattern A*B\", round(endtime-starttime,3))\n",
    "\n",
    "print(\"\\n\\nKMP on Moby Dick...\")\n",
    "starttime = timeit.default_timer()\n",
    "KMPPatternSearch(pattern1a, txt1)\n",
    "endtime = timeit.default_timer()\n",
    "print(\"with pattern \\\"and\\\" \", round(endtime-starttime,3))\n",
    "starttime = timeit.default_timer()\n",
    "KMPPatternSearch(pattern1b, txt1)\n",
    "endtime = timeit.default_timer()\n",
    "print(\"with pattern \\\"every kingdom\\\" \", round(endtime-starttime,3))\n",
    "\n",
    "print(\"KMP on A* text...\")\n",
    "starttime = timeit.default_timer()\n",
    "KMPPatternSearch(pattern2a, txt2)\n",
    "endtime = timeit.default_timer()\n",
    "print(\"with pattern A*\", round(endtime-starttime,3))\n",
    "starttime = timeit.default_timer()\n",
    "KMPPatternSearch(pattern2b, txt2)\n",
    "endtime = timeit.default_timer()\n",
    "print(\"with pattern A*B\", round(endtime-starttime,3))"
   ]
  },
  {
   "cell_type": "markdown",
   "metadata": {},
   "source": [
    "## Exercise – Longest common substring"
   ]
  },
  {
   "cell_type": "code",
   "execution_count": 7,
   "metadata": {},
   "outputs": [],
   "source": [
    "def longestCommonSubstring(str1, str2): \n",
    "\n",
    "    lcs = \"\"\n",
    "    maxLength = 0\n",
    "    \n",
    "    for i in range(len(str1)):\n",
    "        if str1[i] in str2:\n",
    "            for j in range(i + 1, len(str1)):\n",
    "                if str1[i:j] in str2:\n",
    "                    if(len(str1[i:j]) > maxLength):\n",
    "                        maxLength = len(str1[i:j])\n",
    "                        lcs =  str1[i:j]\n",
    "\n",
    "    return lcs\n"
   ]
  },
  {
   "cell_type": "code",
   "execution_count": 8,
   "metadata": {},
   "outputs": [
    {
     "name": "stdout",
     "output_type": "stream",
     "text": [
      "appe\n",
      "pendi\n"
     ]
    }
   ],
   "source": [
    "print(longestCommonSubstring(\"appendix\", \"appeal\"))\n",
    "print(longestCommonSubstring(\"appendix\", \"compendium\"))"
   ]
  },
  {
   "cell_type": "code",
   "execution_count": 9,
   "metadata": {},
   "outputs": [
    {
     "name": "stdout",
     "output_type": "stream",
     "text": [
      "longest common substring is:  00\n",
      "time taken for N = 10 : 0.0\n",
      "longest common substring is:  6601\n",
      "time taken for N = 100 : 0.002\n",
      "longest common substring is:  4108855\n",
      "time taken for N = 1000 : 1.147\n",
      "longest common substring is:  841087\n",
      "time taken for N = 2000 : 10.704\n"
     ]
    },
    {
     "ename": "KeyboardInterrupt",
     "evalue": "",
     "output_type": "error",
     "traceback": [
      "\u001b[1;31m---------------------------------------------------------------------------\u001b[0m",
      "\u001b[1;31mKeyboardInterrupt\u001b[0m                         Traceback (most recent call last)",
      "\u001b[1;32m<ipython-input-9-cdb8ba15cef3>\u001b[0m in \u001b[0;36m<module>\u001b[1;34m\u001b[0m\n\u001b[0;32m     11\u001b[0m \u001b[1;33m\u001b[0m\u001b[0m\n\u001b[0;32m     12\u001b[0m     \u001b[0mstarttime\u001b[0m \u001b[1;33m=\u001b[0m \u001b[0mtimeit\u001b[0m\u001b[1;33m.\u001b[0m\u001b[0mdefault_timer\u001b[0m\u001b[1;33m(\u001b[0m\u001b[1;33m)\u001b[0m\u001b[1;33m\u001b[0m\u001b[0m\n\u001b[1;32m---> 13\u001b[1;33m     \u001b[0mprint\u001b[0m\u001b[1;33m(\u001b[0m\u001b[1;34m\"longest common substring is: \"\u001b[0m\u001b[1;33m,\u001b[0m \u001b[0mlongestCommonSubstring\u001b[0m\u001b[1;33m(\u001b[0m\u001b[0mstr1\u001b[0m\u001b[1;33m,\u001b[0m \u001b[0mstr2\u001b[0m\u001b[1;33m)\u001b[0m\u001b[1;33m)\u001b[0m\u001b[1;33m\u001b[0m\u001b[0m\n\u001b[0m\u001b[0;32m     14\u001b[0m     \u001b[0mendtime\u001b[0m \u001b[1;33m=\u001b[0m \u001b[0mtimeit\u001b[0m\u001b[1;33m.\u001b[0m\u001b[0mdefault_timer\u001b[0m\u001b[1;33m(\u001b[0m\u001b[1;33m)\u001b[0m\u001b[1;33m\u001b[0m\u001b[0m\n\u001b[0;32m     15\u001b[0m     \u001b[0mprint\u001b[0m\u001b[1;33m(\u001b[0m\u001b[1;34m\"time taken for N =\"\u001b[0m\u001b[1;33m,\u001b[0m \u001b[0mN\u001b[0m\u001b[1;33m[\u001b[0m\u001b[0mi\u001b[0m\u001b[1;33m]\u001b[0m\u001b[1;33m,\u001b[0m \u001b[1;34m\":\"\u001b[0m\u001b[1;33m,\u001b[0m \u001b[0mround\u001b[0m\u001b[1;33m(\u001b[0m\u001b[0mendtime\u001b[0m\u001b[1;33m-\u001b[0m\u001b[0mstarttime\u001b[0m\u001b[1;33m,\u001b[0m\u001b[1;36m3\u001b[0m\u001b[1;33m)\u001b[0m\u001b[1;33m)\u001b[0m\u001b[1;33m\u001b[0m\u001b[0m\n",
      "\u001b[1;32m<ipython-input-7-f0c74feaa98f>\u001b[0m in \u001b[0;36mlongestCommonSubstring\u001b[1;34m(str1, str2)\u001b[0m\n\u001b[0;32m      7\u001b[0m         \u001b[1;32mif\u001b[0m \u001b[0mstr1\u001b[0m\u001b[1;33m[\u001b[0m\u001b[0mi\u001b[0m\u001b[1;33m]\u001b[0m \u001b[1;32min\u001b[0m \u001b[0mstr2\u001b[0m\u001b[1;33m:\u001b[0m\u001b[1;33m\u001b[0m\u001b[0m\n\u001b[0;32m      8\u001b[0m             \u001b[1;32mfor\u001b[0m \u001b[0mj\u001b[0m \u001b[1;32min\u001b[0m \u001b[0mrange\u001b[0m\u001b[1;33m(\u001b[0m\u001b[0mi\u001b[0m \u001b[1;33m+\u001b[0m \u001b[1;36m1\u001b[0m\u001b[1;33m,\u001b[0m \u001b[0mlen\u001b[0m\u001b[1;33m(\u001b[0m\u001b[0mstr1\u001b[0m\u001b[1;33m)\u001b[0m\u001b[1;33m)\u001b[0m\u001b[1;33m:\u001b[0m\u001b[1;33m\u001b[0m\u001b[0m\n\u001b[1;32m----> 9\u001b[1;33m                 \u001b[1;32mif\u001b[0m \u001b[0mstr1\u001b[0m\u001b[1;33m[\u001b[0m\u001b[0mi\u001b[0m\u001b[1;33m:\u001b[0m\u001b[0mj\u001b[0m\u001b[1;33m]\u001b[0m \u001b[1;32min\u001b[0m \u001b[0mstr2\u001b[0m\u001b[1;33m:\u001b[0m\u001b[1;33m\u001b[0m\u001b[0m\n\u001b[0m\u001b[0;32m     10\u001b[0m                     \u001b[1;32mif\u001b[0m\u001b[1;33m(\u001b[0m\u001b[0mlen\u001b[0m\u001b[1;33m(\u001b[0m\u001b[0mstr1\u001b[0m\u001b[1;33m[\u001b[0m\u001b[0mi\u001b[0m\u001b[1;33m:\u001b[0m\u001b[0mj\u001b[0m\u001b[1;33m]\u001b[0m\u001b[1;33m)\u001b[0m \u001b[1;33m>\u001b[0m \u001b[0mmaxLength\u001b[0m\u001b[1;33m)\u001b[0m\u001b[1;33m:\u001b[0m\u001b[1;33m\u001b[0m\u001b[0m\n\u001b[0;32m     11\u001b[0m                         \u001b[0mmaxLength\u001b[0m \u001b[1;33m=\u001b[0m \u001b[0mlen\u001b[0m\u001b[1;33m(\u001b[0m\u001b[0mstr1\u001b[0m\u001b[1;33m[\u001b[0m\u001b[0mi\u001b[0m\u001b[1;33m:\u001b[0m\u001b[0mj\u001b[0m\u001b[1;33m]\u001b[0m\u001b[1;33m)\u001b[0m\u001b[1;33m\u001b[0m\u001b[0m\n",
      "\u001b[1;31mKeyboardInterrupt\u001b[0m: "
     ]
    }
   ],
   "source": [
    "from random import choice\n",
    "from string import digits\n",
    "import timeit\n",
    "\n",
    "N = [10, 100, 1000, 2000, 5000]\n",
    "\n",
    "\n",
    "for i in range(len(N)):\n",
    "    str1 = \"\".join(choice(digits) for _ in range(N[i]))\n",
    "    str2 = \"\".join(choice(digits) for _ in range(2*N[i]))\n",
    "        \n",
    "    starttime = timeit.default_timer()\n",
    "    print(\"longest common substring is: \", longestCommonSubstring(str1, str2))\n",
    "    endtime = timeit.default_timer()\n",
    "    print(\"time taken for N =\", N[i], \":\", round(endtime-starttime,3))\n",
    "\n",
    "\n"
   ]
  },
  {
   "cell_type": "code",
   "execution_count": null,
   "metadata": {},
   "outputs": [],
   "source": []
  }
 ],
 "metadata": {
  "kernelspec": {
   "display_name": "Python 3",
   "language": "python",
   "name": "python3"
  },
  "language_info": {
   "codemirror_mode": {
    "name": "ipython",
    "version": 3
   },
   "file_extension": ".py",
   "mimetype": "text/x-python",
   "name": "python",
   "nbconvert_exporter": "python",
   "pygments_lexer": "ipython3",
   "version": "3.6.5"
  }
 },
 "nbformat": 4,
 "nbformat_minor": 4
}
